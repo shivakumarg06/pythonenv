{
 "cells": [
  {
   "cell_type": "code",
   "execution_count": 1,
   "id": "eea3ac5f-2227-467a-9fac-c2f6d41c24d2",
   "metadata": {},
   "outputs": [],
   "source": [
    "import backtrader as bt\n",
    "import yfinance as yf\n",
    "import pandas as pd\n",
    "from datetime import datetime\n",
    "\n"
   ]
  },
  {
   "cell_type": "code",
   "execution_count": 2,
   "id": "0914e3d7-7926-4fd2-9cd8-e556e51b3688",
   "metadata": {},
   "outputs": [
    {
     "name": "stdout",
     "output_type": "stream",
     "text": [
      "[*********************100%%**********************]  1 of 1 completed\n",
      "              Open        High         Low       Close   Adj Close    Volume\n",
      "Date                                                                        \n",
      "2022-01-03  147.25  155.949997  147.000000  155.300003  133.903976  29486720\n",
      "2022-01-04  156.00  156.649994  152.350006  153.000000  131.920837  13744440\n",
      "2022-01-05  153.00  154.300003  152.100006  153.699997  132.524384   8454060\n",
      "2022-01-06  154.50  155.250000  153.050003  154.649994  133.343506  12446900\n",
      "2022-01-07  155.00  157.449997  154.949997  156.949997  135.326645  11679683\n"
     ]
    }
   ],
   "source": [
    "# Define the ticker symbol for HDFC Bank on Yahoo Finance \n",
    "ticker_symbol = \"COALINDIA.NS\"\n",
    "\n",
    "# Set the start and end dates for historical data \n",
    "start_date = \"2022-01-01\"\n",
    "end_date = \"2023-11-14\"\n",
    "\n",
    "# Download historical Data\n",
    "data = yf.download(ticker_symbol, start=start_date, end=end_date)\n",
    "\n",
    "# Print the first few rows of the data\n",
    "print(data.head())\n",
    "\n",
    "# Save the data to a CSV file if needed\n",
    "data.to_csv(\"COALINDIA.NS.csv\")"
   ]
  },
  {
   "cell_type": "code",
   "execution_count": 3,
   "id": "d8bb5cc0-b96b-47cb-8631-1ed171285ee9",
   "metadata": {},
   "outputs": [],
   "source": [
    "class firstStrategy(bt.Strategy):\n",
    "    def __init__(self):\n",
    "        # initializing rsi, slow and fast sma\n",
    "        self.rsi = bt.indicators.RSI(self.data.close, period=21)\n",
    "        self.fast_sma = bt.indicators.SMA(self.data.close, period=50)\n",
    "        self.slow_sma = bt.indicators.SMA(self.data.close, period=100)\n",
    "        self.crossup = bt.ind.CrossUp(self.fast_sma, self.slow_sma)\n",
    "\n",
    "    def next(self):\n",
    "        if not self.position:\n",
    "            if self.rsi > 30 and self.fast_sma > self.slow_sma:  # when rsi > 30 and fast_sma cuts slow_sma\n",
    "                self.buy(size=100)  # buying 100 quantities \n",
    "        else:\n",
    "            if self.rsi < 70:  # when rsi is below 70 line\n",
    "                self.sell(size=100)  # selling 100 quantities\n"
   ]
  },
  {
   "cell_type": "code",
   "execution_count": 4,
   "id": "5472d75a-3f71-45e1-a885-f8defb0e3602",
   "metadata": {},
   "outputs": [],
   "source": [
    "def __init__(self):\n",
    "        # initializing rsi, slow and fast sma\n",
    "        self.rsi = bt.indicators.RSI(self.data.close, period=21)\n",
    "        self.fast_sma = bt.indicators.SMA(self.data.close, period=50)\n",
    "        self.slow_sma = bt.indicators.SMA(self.data.close, period=100)\n",
    "        self.crossup = bt.ind.CrossUp(self.fast_sma, self.slow_sma)\n"
   ]
  },
  {
   "cell_type": "code",
   "execution_count": 5,
   "id": "051ab645-1149-4f55-a3b8-e4b958325ac1",
   "metadata": {},
   "outputs": [],
   "source": [
    "def next(self):\n",
    "    if not self.position:\n",
    "        # BUYING Condition\n",
    "        if self.rsi > 30 and self.fast_sma > self.slow_sma:  # when rsi > 30 and fast_sma cuts slow_sma\n",
    "            self.buy(size=100)  # buying 100 quantities of equity\n",
    "    else:\n",
    "        # SELLING Condition\n",
    "        if self.rsi < 70:  # when rsi is below 70 line\n",
    "            self.sell(size=100)  # selling 100 quantities of equity\n"
   ]
  },
  {
   "cell_type": "code",
   "execution_count": 6,
   "id": "9ba5e5a0-3056-4cc2-a6dd-a18702f5eb5c",
   "metadata": {},
   "outputs": [],
   "source": [
    "startcash = 100000\n"
   ]
  },
  {
   "cell_type": "code",
   "execution_count": 7,
   "id": "6f4d1a26-079d-47d4-9928-d9f3e47c1ced",
   "metadata": {},
   "outputs": [],
   "source": [
    "cerebro = bt.Cerebro() # It is the main class in backtrader.\n"
   ]
  },
  {
   "cell_type": "code",
   "execution_count": 8,
   "id": "a6233f69-86ff-4f24-9ecd-676de449449b",
   "metadata": {},
   "outputs": [
    {
     "data": {
      "text/plain": [
       "0"
      ]
     },
     "execution_count": 8,
     "metadata": {},
     "output_type": "execute_result"
    }
   ],
   "source": [
    "cerebro.addstrategy(firstStrategy) # adding strategy in Cerebro engine\n"
   ]
  },
  {
   "cell_type": "code",
   "execution_count": 9,
   "id": "b01b322b-c36d-4bf4-8586-e2543a1b5f93",
   "metadata": {},
   "outputs": [],
   "source": [
    "# Get HDFCBANK data from Yahoo Finance.\n",
    "# ----- Use below code to fetch data from Yahoo Finance CSV  -------\n",
    "data = bt.feeds.YahooFinanceCSVData(\n",
    "    dataname=\"COALINDIA.NS.csv\",\n",
    "    fromdate=datetime(2022,1,1),\n",
    "    todate =datetime(2023,11,14))\n"
   ]
  },
  {
   "cell_type": "code",
   "execution_count": 10,
   "id": "4201acc3-6b5a-4898-b860-de320a5daea1",
   "metadata": {},
   "outputs": [
    {
     "data": {
      "text/plain": [
       "<backtrader.feeds.yahoo.YahooFinanceCSVData at 0x7f63c5dda5f0>"
      ]
     },
     "execution_count": 10,
     "metadata": {},
     "output_type": "execute_result"
    }
   ],
   "source": [
    "cerebro.adddata(data)\n"
   ]
  },
  {
   "cell_type": "code",
   "execution_count": 11,
   "id": "ffb7f46f-5310-4aa0-b679-d2132021120e",
   "metadata": {},
   "outputs": [],
   "source": [
    "cerebro.broker.setcommission(commission=0.002)\n"
   ]
  },
  {
   "cell_type": "code",
   "execution_count": 12,
   "id": "722a5924-b25d-4ff7-91b0-e53bd3670956",
   "metadata": {},
   "outputs": [],
   "source": [
    "cerebro.broker.setcash(startcash)\n"
   ]
  },
  {
   "cell_type": "code",
   "execution_count": 13,
   "id": "432a3267-4587-48fc-b83a-0da891a0fa0e",
   "metadata": {},
   "outputs": [
    {
     "data": {
      "text/plain": [
       "[<__main__.firstStrategy at 0x7f6393070d90>]"
      ]
     },
     "execution_count": 13,
     "metadata": {},
     "output_type": "execute_result"
    }
   ],
   "source": [
    "cerebro.run()\n"
   ]
  },
  {
   "cell_type": "code",
   "execution_count": 14,
   "id": "18fb3230-9b3e-4ee4-a859-1ca9ad211e00",
   "metadata": {},
   "outputs": [
    {
     "name": "stdout",
     "output_type": "stream",
     "text": [
      "Final Portfolio Value: $101612.32599999999\n",
      "P/L: $1612.3259999999864\n"
     ]
    }
   ],
   "source": [
    "portvalue = cerebro.broker.getvalue()\n",
    "pnl = portvalue - startcash\n",
    "\n",
    "# Printing out the final result\n",
    "print('Final Portfolio Value: ${}'.format(portvalue))\n",
    "print('P/L: ${}'.format(pnl))\n"
   ]
  },
  {
   "cell_type": "code",
   "execution_count": null,
   "id": "cb3a0eab-1e00-4f28-9979-bba4150470d8",
   "metadata": {},
   "outputs": [],
   "source": []
  }
 ],
 "metadata": {
  "kernelspec": {
   "display_name": "Python 3 (ipykernel)",
   "language": "python",
   "name": "python3"
  },
  "language_info": {
   "codemirror_mode": {
    "name": "ipython",
    "version": 3
   },
   "file_extension": ".py",
   "mimetype": "text/x-python",
   "name": "python",
   "nbconvert_exporter": "python",
   "pygments_lexer": "ipython3",
   "version": "3.10.12"
  }
 },
 "nbformat": 4,
 "nbformat_minor": 5
}
