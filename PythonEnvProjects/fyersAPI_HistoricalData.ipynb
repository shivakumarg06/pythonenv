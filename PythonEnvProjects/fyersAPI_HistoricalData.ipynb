{
 "cells": [
  {
   "cell_type": "code",
   "execution_count": null,
   "id": "b3648dfc-8563-4ba6-816d-510cc28a693e",
   "metadata": {},
   "outputs": [],
   "source": [
    "pip install fyers-apiv2"
   ]
  },
  {
   "cell_type": "code",
   "execution_count": null,
   "id": "480d12df-d9c0-4dc2-8c36-17496bbf1089",
   "metadata": {},
   "outputs": [],
   "source": [
    "from fyers_api import fyersModel\n",
    "from fyers_api import accessToken"
   ]
  },
  {
   "cell_type": "code",
   "execution_count": null,
   "id": "578cdbb5-7c7d-4300-bcfe-4cf635ed78ed",
   "metadata": {},
   "outputs": [],
   "source": [
    "client_id = \"0OK293HR7V-100\"\n",
    "secret_key = \"P40OXXXHVY9\"\n",
    "redirect_uri = \"http://www.google.com\""
   ]
  },
  {
   "cell_type": "code",
   "execution_count": null,
   "id": "5db621f1-acf9-4280-bf84-bbfb4b010ebf",
   "metadata": {},
   "outputs": [],
   "source": [
    "session=accessToken.SessionModel(client_id=client_id,\n",
    "secret_key=secret_key,redirect_uri=redirect_uri,\n",
    "response_type='code', grant_type='authorization_code')\n",
    "response = session.generate_authcode()"
   ]
  },
  {
   "cell_type": "code",
   "execution_count": null,
   "id": "beeeb3ff-8f7c-483e-919c-3236d802e242",
   "metadata": {},
   "outputs": [],
   "source": [
    "print(response)"
   ]
  },
  {
   "cell_type": "code",
   "execution_count": null,
   "id": "fbab851d-dbcf-4ff3-aeeb-8d513fd05f83",
   "metadata": {},
   "outputs": [],
   "source": [
    "auth_code = \"\""
   ]
  },
  {
   "cell_type": "code",
   "execution_count": null,
   "id": "92c02deb-59f1-4732-8a94-7f11fc2e0c35",
   "metadata": {},
   "outputs": [],
   "source": [
    "session.set_token(auth_code)\n",
    "response = session.generate_token()\n",
    "access_token = response[\"access_token\"]\n",
    "fyers = fyersModel.FyersModel(client_id=client_id, token=access_token,log_path=\"c:\\fyersdata\")"
   ]
  },
  {
   "cell_type": "code",
   "execution_count": null,
   "id": "6ed0493b-9def-4f4a-8e99-48bca56e7c23",
   "metadata": {},
   "outputs": [],
   "source": [
    "response = fyers.get_profile()\n",
    "print(response)"
   ]
  }
 ],
 "metadata": {
  "kernelspec": {
   "display_name": "Python 3 (ipykernel)",
   "language": "python",
   "name": "python3"
  },
  "language_info": {
   "codemirror_mode": {
    "name": "ipython",
    "version": 3
   },
   "file_extension": ".py",
   "mimetype": "text/x-python",
   "name": "python",
   "nbconvert_exporter": "python",
   "pygments_lexer": "ipython3",
   "version": "3.12.2"
  }
 },
 "nbformat": 4,
 "nbformat_minor": 5
}
