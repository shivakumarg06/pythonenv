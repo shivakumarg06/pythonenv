{
 "cells": [
  {
   "cell_type": "code",
   "execution_count": 51,
   "metadata": {},
   "outputs": [],
   "source": [
    "with open('access.txt','r') as a:\n",
    "    access_token=a.read()\n",
    "client_id = '5YKT940X4B-100'\n",
    "\n",
    "from fyers_apiv3 import fyersModel\n",
    "import pandas as pd\n",
    "fyers = fyersModel.FyersModel(client_id=client_id, token=access_token,is_async=False, log_path=\"\")\n"
   ]
  },
  {
   "cell_type": "markdown",
   "metadata": {},
   "source": [
    "# orderbook"
   ]
  },
  {
   "cell_type": "code",
   "execution_count": 76,
   "metadata": {},
   "outputs": [
    {
     "name": "stdout",
     "output_type": "stream",
     "text": [
      "   clientId  exchange          fyToken                   id  instrument  offlineOrder source  status  type         pan  limitPrice productType  qty  disclosedQty  remainingQuantity  segment          symbol                description   ex_sym         orderDateTime  side orderValidity  stopPrice  tradedPrice  filledQty         exchOrdId                                                                                                                                                                 message    ch       chp      lp         orderNumStatus  slNo    orderTag             parentId\n",
      "0   XS45474        10  101000000011915       24022300265854           0         False    API       2     2  GXAPS1597B       26.70    INTRADAY    1             0                  0       10  NSE:YESBANK-EQ           YES BANK LIMITED  YESBANK  23-Feb-2024 12:49:32     1           DAY       0.00        26.70          1  1300000025908529                                                                                                                                                                         -0.80 -2.946593   26.35       24022300265854:2     1  2:Untagged                  NaN\n",
      "1   XS45474        10  101000000011915       24022300266173           0         False    API       1     1  GXAPS1597B       24.00    INTRADAY    1             0                  0       10  NSE:YESBANK-EQ           YES BANK LIMITED  YESBANK  23-Feb-2024 12:51:28     1           DAY       0.00         0.00          0  1300000025961583                                                                                                                                                                         -0.80 -2.946593   26.35       24022300266173:1     2      1:tag1                  NaN\n",
      "2   XS45474        10  101000000011915       24022300267263           0         False      W       1     3  GXAPS1597B        0.00    INTRADAY    1             0                  0       10  NSE:YESBANK-EQ           YES BANK LIMITED  YESBANK  23-Feb-2024 12:52:32    -1           DAY      24.00         0.00          0  1300000026111927                                                                                                                                                                         -0.80 -2.946593   26.35       24022300267263:1     3      1:tag1                  NaN\n",
      "3   XS45474        10  101000000011915       24022300267363           0         False    API       1     3  GXAPS1597B        0.00    INTRADAY    1             0                  0       10  NSE:YESBANK-EQ           YES BANK LIMITED  YESBANK  23-Feb-2024 12:53:12     1           DAY      28.00         0.00          0  1300000026132813                                                                                                                                                                         -0.80 -2.946593   26.35       24022300267363:1     4      1:tag1                  NaN\n",
      "4   XS45474        10  101000000011915       24022300269788           0         False    API       1     4  GXAPS1597B       24.00    INTRADAY    1             0                  0       10  NSE:YESBANK-EQ           YES BANK LIMITED  YESBANK  23-Feb-2024 12:55:50    -1           DAY      25.00         0.00          0  1300000026407871                                                                                                                                                                         -0.80 -2.946593   26.35       24022300269788:1     5      1:tag1                  NaN\n",
      "5   XS45474        10  101000000011915       24022300270567           0         False    API       5     4  GXAPS1597B       15.00    INTRADAY    1             0                  0       10  NSE:YESBANK-EQ           YES BANK LIMITED  YESBANK  23-Feb-2024 12:56:22    -1           DAY      20.00         0.00          0                    RED:RULE:{Check circuit limit including square off order}Current:INR 15.00 LowerCircuit:INR 21.75 UpperCircuit:INR 32.55:NSE.YESBANK-EQ for C-XS45474 [FYERS_RISK_CUG] -0.80 -2.946593   26.35       24022300270567:5     6      1:tag1                  NaN\n",
      "6   XS45474        10  101000000011915       24022300270765           0         False    API       5     4  GXAPS1597B       20.00    INTRADAY    1             0                  0       10  NSE:YESBANK-EQ           YES BANK LIMITED  YESBANK  23-Feb-2024 12:56:36    -1           DAY      21.00         0.00          0                    RED:RULE:{Check circuit limit including square off order}Current:INR 20.00 LowerCircuit:INR 21.75 UpperCircuit:INR 32.55:NSE.YESBANK-EQ for C-XS45474 [FYERS_RISK_CUG] -0.80 -2.946593   26.35       24022300270765:5     7      1:tag1                  NaN\n",
      "7   XS45474        10  101000000011915       24022300270905           0         False      W       1     4  GXAPS1597B       22.00    INTRADAY    1             0                  0       10  NSE:YESBANK-EQ           YES BANK LIMITED  YESBANK  23-Feb-2024 12:57:22    -1           DAY      23.00         0.00          0  1300000026532970                                                                                                                                                                         -0.80 -2.946593   26.35       24022300270905:1     8      1:tag1                  NaN\n",
      "8   XS45474        10  101000000011915  24022300272140-CO-1           0         False    SNO       1     1  GXAPS1597B       25.00          CO    1             0                  0       10  NSE:YESBANK-EQ           YES BANK LIMITED  YESBANK  23-Feb-2024 12:59:26     1           DAY       0.00         0.00          0  1300000026697713                                                                                                                                                                         -0.80 -2.946593   26.35  24022300272140-CO-1:1     9  2:Untagged                  NaN\n",
      "9   XS45474        10  101000000011915  24022300272385-CO-1           0         False    API       2     2  GXAPS1597B       26.65          CO    1             0                  0       10  NSE:YESBANK-EQ           YES BANK LIMITED  YESBANK  23-Feb-2024 12:59:28     1           DAY       0.00        26.65          1  1300000026737743                                                                                                                                                                         -0.80 -2.946593   26.35  24022300272385-CO-1:2    10  2:Untagged                  NaN\n",
      "10  XS45474        10  101000000011915  24022300272386-CO-2           0         False    SNO       2     2  GXAPS1597B       26.60          CO    1             0                  0       10  NSE:YESBANK-EQ           YES BANK LIMITED  YESBANK  23-Feb-2024 12:59:55    -1           DAY      24.65        26.60          1  1300000026737746                                                                                                                                                                         -0.80 -2.946593   26.35  24022300272386-CO-2:2    11              24022300272385-CO-1\n",
      "11  XS45474        10  101000000011915  24022300273461-BO-1           0         False    SNO       1     1  GXAPS1597B       25.00          BO    1             0                  0       10  NSE:YESBANK-EQ           YES BANK LIMITED  YESBANK  23-Feb-2024 13:01:20     1           DAY       0.00         0.00          0  1300000026861965                                                                                                                                                                         -0.80 -2.946593   26.35  24022300273461-BO-1:1    12  2:Untagged                  NaN\n",
      "12  XS45474        10  101000000011915       24022300274079           0         False    API       1     1  GXAPS1597B       25.00    INTRADAY    1             0                  0       10  NSE:YESBANK-EQ           YES BANK LIMITED  YESBANK  23-Feb-2024 13:03:07     1           DAY       0.00         0.00          0  1300000026953191                                                                                                                                                                         -0.80 -2.946593   26.35       24022300274079:1    13      1:tag1                  NaN\n",
      "13  XS45474        10  101000000011915       24022300278556           0         False    API       2     2  GXAPS1597B       26.65         CNC    1             0                  0       10  NSE:YESBANK-EQ           YES BANK LIMITED  YESBANK  23-Feb-2024 13:07:15     1           DAY       0.00        26.65          1  1300000027349505                                                                                                                                                                         -0.80 -2.946593   26.35       24022300278556:2    14  2:Untagged                  NaN\n",
      "14  XS45474        10  101000000011915       24022300288206           0         False      W       2     2  GXAPS1597B       26.80         CNC    1             0                  0       10  NSE:YESBANK-EQ           YES BANK LIMITED  YESBANK  23-Feb-2024 13:22:20    -1           DAY       0.00        26.80          1  1300000028569348                                                                                                                                                                         -0.80 -2.946593   26.35       24022300288206:2    15      2:Exit                  NaN\n",
      "15  XS45474        10  101000000011915       24022300295230           0         False      W       1     1  GXAPS1597B       24.00    INTRADAY    1             0                  0       10  NSE:YESBANK-EQ           YES BANK LIMITED  YESBANK  23-Feb-2024 13:26:40     1           DAY       0.00         0.00          0  1300000028943055                                                                                                                                                                         -0.80 -2.946593   26.35       24022300295230:1    16      1:tag1                  NaN\n",
      "16  XS45474        10  101000000011915       24022300339181           0         False      W       2     2  GXAPS1597B       26.65    INTRADAY    1             0                  0       10  NSE:YESBANK-EQ           YES BANK LIMITED  YESBANK  23-Feb-2024 14:09:54     1           DAY       0.00        26.65          1  1300000032991909                                                                                                                                                                         -0.80 -2.946593   26.35       24022300339181:2    17  2:Untagged                  NaN\n",
      "17  XS45474        10  101000000018154       24022300350000           0         False    API       2     2  GXAPS1597B       23.85    INTRADAY    1             0                  0       10  NSE:HATHWAY-EQ    HATHWAY CABLE & DATACOM  HATHWAY  23-Feb-2024 14:16:51     1           DAY       0.00        23.85          1  1100000036626966                                                                                                                                                                         -0.25 -1.035197   23.90       24022300350000:2    18  2:Untagged                  NaN\n",
      "18  XS45474        10  101000000018154       24022300353472           0         False    API       2     1  GXAPS1597B       24.00    INTRADAY    1             0                  0       10  NSE:HATHWAY-EQ    HATHWAY CABLE & DATACOM  HATHWAY  23-Feb-2024 14:19:56     1           DAY       0.00        23.85          1  1100000036947111                                                                                                                                                                         -0.25 -1.035197   23.90       24022300353472:2    19      1:tag1                  NaN\n",
      "19  XS45474        10  101000000018154       24022300353765           0         False    API       1     1  GXAPS1597B       22.00    INTRADAY    1             0                  0       10  NSE:HATHWAY-EQ    HATHWAY CABLE & DATACOM  HATHWAY  23-Feb-2024 14:25:44     1           DAY       0.00         0.00          0  1100000036974729                                                                                                                                                                         -0.25 -1.035197   23.90       24022300353765:1    20      1:tag1                  NaN\n",
      "20  XS45474        10  101000000018154       24022300360492           0         False    API       6     1  GXAPS1597B       25.00    INTRADAY    1             0                  1       10  NSE:HATHWAY-EQ    HATHWAY CABLE & DATACOM  HATHWAY  23-Feb-2024 14:26:57    -1           DAY       0.00         0.00          0  1100000037661080                                                                                                                                                                         -0.25 -1.035197   23.90       24022300360492:6    21      1:tag1                  NaN\n",
      "21  XS45474        10  101000000018154       24022300367197           0         False    API       6     3  GXAPS1597B        0.00    INTRADAY    1             0                  1       10  NSE:HATHWAY-EQ    HATHWAY CABLE & DATACOM  HATHWAY  23-Feb-2024 14:34:54     1           DAY      25.00         0.00          0  1100000038465632                                                                                                                                                                         -0.25 -1.035197   23.90       24022300367197:6    22      1:tag1                  NaN\n",
      "22  XS45474        10  101000000018154       24022300367585           0         False    API       1     3  GXAPS1597B        0.00    INTRADAY    1             0                  0       10  NSE:HATHWAY-EQ    HATHWAY CABLE & DATACOM  HATHWAY  23-Feb-2024 14:36:02    -1           DAY      22.00         0.00          0  1100000038520878                                                                                                                                                                         -0.25 -1.035197   23.90       24022300367585:1    23      1:tag1                  NaN\n",
      "23  XS45474        10  101000000018154       24022300368911           0         False    API       5     4  GXAPS1597B       19.00    INTRADAY    1             0                  0       10  NSE:HATHWAY-EQ    HATHWAY CABLE & DATACOM  HATHWAY  23-Feb-2024 14:37:15    -1           DAY      20.00         0.00          0                    RED:RULE:{Check circuit limit including square off order}Current:INR 19.00 LowerCircuit:INR 19.35 UpperCircuit:INR 28.95:NSE.HATHWAY-EQ for C-XS45474 [FYERS_RISK_CUG] -0.25 -1.035197   23.90       24022300368911:5    24      1:tag1                  NaN\n",
      "24  XS45474        10  101000000018154       24022300369353           0         False    API       6     4  GXAPS1597B       21.00    INTRADAY    1             0                  1       10  NSE:HATHWAY-EQ    HATHWAY CABLE & DATACOM  HATHWAY  23-Feb-2024 14:37:47    -1           DAY      22.00         0.00          0  1100000038745638                                                                                                                                                                         -0.25 -1.035197   23.90       24022300369353:6    25      1:tag1                  NaN\n",
      "25  XS45474        10   10100000002475  24022300375182-CO-1           0         False    API       2     2  GXAPS1597B      273.40          CO    1             0                  0       10     NSE:ONGC-EQ  OIL AND NATURAL GAS CORP.     ONGC  23-Feb-2024 14:41:13     1           DAY       0.00       273.40          1  1200000041682402                                                                                                                                                                         -1.60 -0.582454  273.10  24022300375182-CO-1:2    26  2:Untagged                  NaN\n",
      "26  XS45474        10   10100000002475  24022300375183-CO-2           0         False    SNO       2     2  GXAPS1597B      273.15          CO    1             0                  0       10     NSE:ONGC-EQ  OIL AND NATURAL GAS CORP.     ONGC  23-Feb-2024 14:41:50    -1           DAY     270.40       273.15          1  1200000041682406                                                                                                                                                                         -1.60 -0.582454  273.10  24022300375183-CO-2:2    27              24022300375182-CO-1\n",
      "27  XS45474        10  101000000011630  24022300379282-BO-1           0         False    API       2     2  GXAPS1597B      336.70          BO    1             0                  0       10     NSE:NTPC-EQ                   NTPC LTD     NTPC  23-Feb-2024 14:44:24     1           DAY       0.00       336.70          1  1200000041989952                                                                                                                                                                         -3.00 -0.883522  336.55  24022300379282-BO-1:2    28  2:Untagged                  NaN\n",
      "28  XS45474        10  101000000011630  24022300379283-BO-2           0         False    SNO       1     4  GXAPS1597B      328.30          BO    1             0                  0       10     NSE:NTPC-EQ                   NTPC LTD     NTPC  23-Feb-2024 14:46:22    -1           DAY     331.70         0.00          0  1200000041989957                                                                                                                                                                         -3.00 -0.883522  336.55  24022300379283-BO-2:1    29              24022300379282-BO-1\n",
      "29  XS45474        10  101000000011630  24022300379284-BO-3           0         False    SNO       2     2  GXAPS1597B      336.50          BO    1             0                  0       10     NSE:NTPC-EQ                   NTPC LTD     NTPC  23-Feb-2024 14:46:22    -1           DAY       0.00       336.50          1  1200000041989959                                                                                                                                                                         -3.00 -0.883522  336.55  24022300379284-BO-3:2    30              24022300379282-BO-1\n",
      "30  XS45474        10  101000000011630  24022300382793-BO-1           0         False    API       6     1  GXAPS1597B      335.00          BO    1             0                  1       10     NSE:NTPC-EQ                   NTPC LTD     NTPC  23-Feb-2024 14:47:18     1           DAY       0.00         0.00          0  1200000042270245                                                                                                                                                                         -3.00 -0.883522  336.55  24022300382793-BO-1:6    31  2:Untagged                  NaN\n"
     ]
    }
   ],
   "source": [
    "response = fyers.orderbook()['orderBook']\n",
    "order_df=pd.DataFrame(response)\n",
    "print(order_df.to_string())"
   ]
  },
  {
   "cell_type": "markdown",
   "metadata": {},
   "source": [
    "# position"
   ]
  },
  {
   "cell_type": "code",
   "execution_count": 56,
   "metadata": {},
   "outputs": [
    {
     "name": "stdout",
     "output_type": "stream",
     "text": [
      "           symbol                       id  buyAvg  buyQty  buyVal  sellAvg  sellQty  sellVal  netAvg  netQty  side  qty productType  realized_profit crossCurrency  rbiRefRate          fyToken  exchange  segment  dayBuyQty  daySellQty  cfBuyQty  cfSellQty  qtyMulti_com    pl  unrealized_profit   ltp  slNo\n",
      "0  NSE:YESBANK-EQ       NSE:YESBANK-EQ-CNC  26.650       1   26.65     26.8        1     26.8   0.000       0     0    0         CNC             0.15                         1  101000000011915        10       10          1           1         0          0             1  0.15               0.00  26.6     0\n",
      "1  NSE:YESBANK-EQ        NSE:YESBANK-EQ-CO  26.650       1   26.65     26.6        1     26.6   0.000       0     0    0          CO            -0.05                         1  101000000011915        10       10          1           1         0          0             1 -0.05               0.00  26.6     0\n",
      "2  NSE:YESBANK-EQ  NSE:YESBANK-EQ-INTRADAY  26.675       2   53.35      0.0        0      0.0  26.675       2     1    2    INTRADAY             0.00                         1  101000000011915        10       10          2           0         0          0             1 -0.15              -0.15  26.6     0\n"
     ]
    }
   ],
   "source": [
    "response = fyers.positions()['netPositions']\n",
    "pos_df=pd.DataFrame(response)\n",
    "print(pos_df.to_string())"
   ]
  },
  {
   "cell_type": "markdown",
   "metadata": {},
   "source": [
    "# tradebook"
   ]
  },
  {
   "cell_type": "code",
   "execution_count": 57,
   "metadata": {},
   "outputs": [
    {
     "name": "stdout",
     "output_type": "stream",
     "text": [
      "  clientId  exchange          fyToken          orderNumber   exchangeOrderNo              tradeNumber  tradePrice  segment productType  tradedQty          symbol         row         orderDateTime  tradeValue  side  orderType    orderTag\n",
      "0  XS45474        10  101000000011915       24022300339181  1300000032991909  24022300339181-66737636       26.65       10    INTRADAY          1  NSE:YESBANK-EQ  1708677594  23-Feb-2024 14:09:54       26.65     1          2  2:Untagged\n",
      "1  XS45474        10  101000000011915       24022300265854  1300000025908529  24022300265854-65397658       26.70       10    INTRADAY          1  NSE:YESBANK-EQ  1708672772  23-Feb-2024 12:49:32       26.70     1          2  2:Untagged\n",
      "2  XS45474        10  101000000011915  24022300272386-CO-2  1300000026737746  24022300272386-65557289       26.60       10          CO          1  NSE:YESBANK-EQ  1708673395  23-Feb-2024 12:59:55       26.60    -1          2            \n",
      "3  XS45474        10  101000000011915       24022300278556  1300000027349505  24022300278556-65674304       26.65       10         CNC          1  NSE:YESBANK-EQ  1708673835  23-Feb-2024 13:07:15       26.65     1          2  2:Untagged\n",
      "4  XS45474        10  101000000011915       24022300288206  1300000028569348  24022300288206-65898706       26.80       10         CNC          1  NSE:YESBANK-EQ  1708674740  23-Feb-2024 13:22:20       26.80    -1          2      2:Exit\n",
      "5  XS45474        10  101000000011915  24022300272385-CO-1  1300000026737743  24022300272385-65551320       26.65       10          CO          1  NSE:YESBANK-EQ  1708673368  23-Feb-2024 12:59:28       26.65     1          2  2:Untagged\n"
     ]
    }
   ],
   "source": [
    "response = fyers.tradebook()['tradeBook']\n",
    "trade_df=pd.DataFrame(response)\n",
    "print(trade_df.to_string())"
   ]
  },
  {
   "cell_type": "code",
   "execution_count": 50,
   "metadata": {},
   "outputs": [
    {
     "data": {
      "text/html": [
       "<div>\n",
       "<style scoped>\n",
       "    .dataframe tbody tr th:only-of-type {\n",
       "        vertical-align: middle;\n",
       "    }\n",
       "\n",
       "    .dataframe tbody tr th {\n",
       "        vertical-align: top;\n",
       "    }\n",
       "\n",
       "    .dataframe thead th {\n",
       "        text-align: right;\n",
       "    }\n",
       "</style>\n",
       "<table border=\"1\" class=\"dataframe\">\n",
       "  <thead>\n",
       "    <tr style=\"text-align: right;\">\n",
       "      <th></th>\n",
       "      <th>101124022635089</th>\n",
       "      <th>MIDCPNIFTY 24 Feb 26 11225 CE</th>\n",
       "      <th>14</th>\n",
       "      <th>75</th>\n",
       "      <th>0.05</th>\n",
       "      <th>Unnamed: 5</th>\n",
       "      <th>0915-1530|1815-1915:</th>\n",
       "      <th>2024-02-22</th>\n",
       "      <th>1708941600</th>\n",
       "      <th>NSE:MIDCPNIFTY24FEB11225CE</th>\n",
       "      <th>10</th>\n",
       "      <th>11</th>\n",
       "      <th>35089</th>\n",
       "      <th>MIDCPNIFTY</th>\n",
       "      <th>26074</th>\n",
       "      <th>11225.0</th>\n",
       "      <th>CE</th>\n",
       "      <th>101000000026074</th>\n",
       "      <th>None</th>\n",
       "    </tr>\n",
       "  </thead>\n",
       "  <tbody>\n",
       "    <tr>\n",
       "      <th>0</th>\n",
       "      <td>101124022635090</td>\n",
       "      <td>MIDCPNIFTY 24 Feb 26 11225 PE</td>\n",
       "      <td>14</td>\n",
       "      <td>75</td>\n",
       "      <td>0.05</td>\n",
       "      <td>NaN</td>\n",
       "      <td>0915-1530|1815-1915:</td>\n",
       "      <td>2024-02-22</td>\n",
       "      <td>1708941600</td>\n",
       "      <td>NSE:MIDCPNIFTY24FEB11225PE</td>\n",
       "      <td>10</td>\n",
       "      <td>11</td>\n",
       "      <td>35090</td>\n",
       "      <td>MIDCPNIFTY</td>\n",
       "      <td>26074</td>\n",
       "      <td>11225.0</td>\n",
       "      <td>PE</td>\n",
       "      <td>101000000026074</td>\n",
       "      <td>NaN</td>\n",
       "    </tr>\n",
       "    <tr>\n",
       "      <th>1</th>\n",
       "      <td>101124022635096</td>\n",
       "      <td>MIDCPNIFTY 24 Feb 26 12400 CE</td>\n",
       "      <td>14</td>\n",
       "      <td>75</td>\n",
       "      <td>0.05</td>\n",
       "      <td>NaN</td>\n",
       "      <td>0915-1530|1815-1915:</td>\n",
       "      <td>2024-02-22</td>\n",
       "      <td>1708941600</td>\n",
       "      <td>NSE:MIDCPNIFTY24FEB12400CE</td>\n",
       "      <td>10</td>\n",
       "      <td>11</td>\n",
       "      <td>35096</td>\n",
       "      <td>MIDCPNIFTY</td>\n",
       "      <td>26074</td>\n",
       "      <td>12400.0</td>\n",
       "      <td>CE</td>\n",
       "      <td>101000000026074</td>\n",
       "      <td>NaN</td>\n",
       "    </tr>\n",
       "    <tr>\n",
       "      <th>2</th>\n",
       "      <td>101124022635114</td>\n",
       "      <td>MIDCPNIFTY 24 Feb 26 12400 PE</td>\n",
       "      <td>14</td>\n",
       "      <td>75</td>\n",
       "      <td>0.05</td>\n",
       "      <td>NaN</td>\n",
       "      <td>0915-1530|1815-1915:</td>\n",
       "      <td>2024-02-22</td>\n",
       "      <td>1708941600</td>\n",
       "      <td>NSE:MIDCPNIFTY24FEB12400PE</td>\n",
       "      <td>10</td>\n",
       "      <td>11</td>\n",
       "      <td>35114</td>\n",
       "      <td>MIDCPNIFTY</td>\n",
       "      <td>26074</td>\n",
       "      <td>12400.0</td>\n",
       "      <td>PE</td>\n",
       "      <td>101000000026074</td>\n",
       "      <td>NaN</td>\n",
       "    </tr>\n",
       "    <tr>\n",
       "      <th>3</th>\n",
       "      <td>101124022635132</td>\n",
       "      <td>MIDCPNIFTY 24 Feb 26 12175 CE</td>\n",
       "      <td>14</td>\n",
       "      <td>75</td>\n",
       "      <td>0.05</td>\n",
       "      <td>NaN</td>\n",
       "      <td>0915-1530|1815-1915:</td>\n",
       "      <td>2024-02-22</td>\n",
       "      <td>1708941600</td>\n",
       "      <td>NSE:MIDCPNIFTY24FEB12175CE</td>\n",
       "      <td>10</td>\n",
       "      <td>11</td>\n",
       "      <td>35132</td>\n",
       "      <td>MIDCPNIFTY</td>\n",
       "      <td>26074</td>\n",
       "      <td>12175.0</td>\n",
       "      <td>CE</td>\n",
       "      <td>101000000026074</td>\n",
       "      <td>NaN</td>\n",
       "    </tr>\n",
       "    <tr>\n",
       "      <th>4</th>\n",
       "      <td>101124022635133</td>\n",
       "      <td>MIDCPNIFTY 24 Feb 26 12175 PE</td>\n",
       "      <td>14</td>\n",
       "      <td>75</td>\n",
       "      <td>0.05</td>\n",
       "      <td>NaN</td>\n",
       "      <td>0915-1530|1815-1915:</td>\n",
       "      <td>2024-02-22</td>\n",
       "      <td>1708941600</td>\n",
       "      <td>NSE:MIDCPNIFTY24FEB12175PE</td>\n",
       "      <td>10</td>\n",
       "      <td>11</td>\n",
       "      <td>35133</td>\n",
       "      <td>MIDCPNIFTY</td>\n",
       "      <td>26074</td>\n",
       "      <td>12175.0</td>\n",
       "      <td>PE</td>\n",
       "      <td>101000000026074</td>\n",
       "      <td>NaN</td>\n",
       "    </tr>\n",
       "    <tr>\n",
       "      <th>...</th>\n",
       "      <td>...</td>\n",
       "      <td>...</td>\n",
       "      <td>...</td>\n",
       "      <td>...</td>\n",
       "      <td>...</td>\n",
       "      <td>...</td>\n",
       "      <td>...</td>\n",
       "      <td>...</td>\n",
       "      <td>...</td>\n",
       "      <td>...</td>\n",
       "      <td>...</td>\n",
       "      <td>...</td>\n",
       "      <td>...</td>\n",
       "      <td>...</td>\n",
       "      <td>...</td>\n",
       "      <td>...</td>\n",
       "      <td>...</td>\n",
       "      <td>...</td>\n",
       "      <td>...</td>\n",
       "    </tr>\n",
       "    <tr>\n",
       "      <th>105205</th>\n",
       "      <td>101128122867795</td>\n",
       "      <td>NIFTY 28 Dec 28 30000 PE</td>\n",
       "      <td>14</td>\n",
       "      <td>50</td>\n",
       "      <td>0.05</td>\n",
       "      <td>NaN</td>\n",
       "      <td>0915-1530|1815-1915:</td>\n",
       "      <td>2024-02-22</td>\n",
       "      <td>1861610400</td>\n",
       "      <td>NSE:NIFTY28DEC30000PE</td>\n",
       "      <td>10</td>\n",
       "      <td>11</td>\n",
       "      <td>67795</td>\n",
       "      <td>NIFTY</td>\n",
       "      <td>26000</td>\n",
       "      <td>30000.0</td>\n",
       "      <td>PE</td>\n",
       "      <td>101000000026000</td>\n",
       "      <td>NaN</td>\n",
       "    </tr>\n",
       "    <tr>\n",
       "      <th>105206</th>\n",
       "      <td>101128122867796</td>\n",
       "      <td>NIFTY 28 Dec 28 31000 CE</td>\n",
       "      <td>14</td>\n",
       "      <td>50</td>\n",
       "      <td>0.05</td>\n",
       "      <td>NaN</td>\n",
       "      <td>0915-1530|1815-1915:</td>\n",
       "      <td>2024-02-22</td>\n",
       "      <td>1861610400</td>\n",
       "      <td>NSE:NIFTY28DEC31000CE</td>\n",
       "      <td>10</td>\n",
       "      <td>11</td>\n",
       "      <td>67796</td>\n",
       "      <td>NIFTY</td>\n",
       "      <td>26000</td>\n",
       "      <td>31000.0</td>\n",
       "      <td>CE</td>\n",
       "      <td>101000000026000</td>\n",
       "      <td>NaN</td>\n",
       "    </tr>\n",
       "    <tr>\n",
       "      <th>105207</th>\n",
       "      <td>101128122867797</td>\n",
       "      <td>NIFTY 28 Dec 28 31000 PE</td>\n",
       "      <td>14</td>\n",
       "      <td>50</td>\n",
       "      <td>0.05</td>\n",
       "      <td>NaN</td>\n",
       "      <td>0915-1530|1815-1915:</td>\n",
       "      <td>2024-02-22</td>\n",
       "      <td>1861610400</td>\n",
       "      <td>NSE:NIFTY28DEC31000PE</td>\n",
       "      <td>10</td>\n",
       "      <td>11</td>\n",
       "      <td>67797</td>\n",
       "      <td>NIFTY</td>\n",
       "      <td>26000</td>\n",
       "      <td>31000.0</td>\n",
       "      <td>PE</td>\n",
       "      <td>101000000026000</td>\n",
       "      <td>NaN</td>\n",
       "    </tr>\n",
       "    <tr>\n",
       "      <th>105208</th>\n",
       "      <td>101128122867798</td>\n",
       "      <td>NIFTY 28 Dec 28 32000 CE</td>\n",
       "      <td>14</td>\n",
       "      <td>50</td>\n",
       "      <td>0.05</td>\n",
       "      <td>NaN</td>\n",
       "      <td>0915-1530|1815-1915:</td>\n",
       "      <td>2024-02-22</td>\n",
       "      <td>1861610400</td>\n",
       "      <td>NSE:NIFTY28DEC32000CE</td>\n",
       "      <td>10</td>\n",
       "      <td>11</td>\n",
       "      <td>67798</td>\n",
       "      <td>NIFTY</td>\n",
       "      <td>26000</td>\n",
       "      <td>32000.0</td>\n",
       "      <td>CE</td>\n",
       "      <td>101000000026000</td>\n",
       "      <td>NaN</td>\n",
       "    </tr>\n",
       "    <tr>\n",
       "      <th>105209</th>\n",
       "      <td>101128122867799</td>\n",
       "      <td>NIFTY 28 Dec 28 32000 PE</td>\n",
       "      <td>14</td>\n",
       "      <td>50</td>\n",
       "      <td>0.05</td>\n",
       "      <td>NaN</td>\n",
       "      <td>0915-1530|1815-1915:</td>\n",
       "      <td>2024-02-22</td>\n",
       "      <td>1861610400</td>\n",
       "      <td>NSE:NIFTY28DEC32000PE</td>\n",
       "      <td>10</td>\n",
       "      <td>11</td>\n",
       "      <td>67799</td>\n",
       "      <td>NIFTY</td>\n",
       "      <td>26000</td>\n",
       "      <td>32000.0</td>\n",
       "      <td>PE</td>\n",
       "      <td>101000000026000</td>\n",
       "      <td>NaN</td>\n",
       "    </tr>\n",
       "  </tbody>\n",
       "</table>\n",
       "<p>105210 rows × 19 columns</p>\n",
       "</div>"
      ],
      "text/plain": [
       "        101124022635089  MIDCPNIFTY 24 Feb 26 11225 CE  14  75  0.05  \\\n",
       "0       101124022635090  MIDCPNIFTY 24 Feb 26 11225 PE  14  75  0.05   \n",
       "1       101124022635096  MIDCPNIFTY 24 Feb 26 12400 CE  14  75  0.05   \n",
       "2       101124022635114  MIDCPNIFTY 24 Feb 26 12400 PE  14  75  0.05   \n",
       "3       101124022635132  MIDCPNIFTY 24 Feb 26 12175 CE  14  75  0.05   \n",
       "4       101124022635133  MIDCPNIFTY 24 Feb 26 12175 PE  14  75  0.05   \n",
       "...                 ...                            ...  ..  ..   ...   \n",
       "105205  101128122867795       NIFTY 28 Dec 28 30000 PE  14  50  0.05   \n",
       "105206  101128122867796       NIFTY 28 Dec 28 31000 CE  14  50  0.05   \n",
       "105207  101128122867797       NIFTY 28 Dec 28 31000 PE  14  50  0.05   \n",
       "105208  101128122867798       NIFTY 28 Dec 28 32000 CE  14  50  0.05   \n",
       "105209  101128122867799       NIFTY 28 Dec 28 32000 PE  14  50  0.05   \n",
       "\n",
       "        Unnamed: 5  0915-1530|1815-1915:  2024-02-22  1708941600  \\\n",
       "0              NaN  0915-1530|1815-1915:  2024-02-22  1708941600   \n",
       "1              NaN  0915-1530|1815-1915:  2024-02-22  1708941600   \n",
       "2              NaN  0915-1530|1815-1915:  2024-02-22  1708941600   \n",
       "3              NaN  0915-1530|1815-1915:  2024-02-22  1708941600   \n",
       "4              NaN  0915-1530|1815-1915:  2024-02-22  1708941600   \n",
       "...            ...                   ...         ...         ...   \n",
       "105205         NaN  0915-1530|1815-1915:  2024-02-22  1861610400   \n",
       "105206         NaN  0915-1530|1815-1915:  2024-02-22  1861610400   \n",
       "105207         NaN  0915-1530|1815-1915:  2024-02-22  1861610400   \n",
       "105208         NaN  0915-1530|1815-1915:  2024-02-22  1861610400   \n",
       "105209         NaN  0915-1530|1815-1915:  2024-02-22  1861610400   \n",
       "\n",
       "        NSE:MIDCPNIFTY24FEB11225CE  10  11  35089  MIDCPNIFTY  26074  11225.0  \\\n",
       "0       NSE:MIDCPNIFTY24FEB11225PE  10  11  35090  MIDCPNIFTY  26074  11225.0   \n",
       "1       NSE:MIDCPNIFTY24FEB12400CE  10  11  35096  MIDCPNIFTY  26074  12400.0   \n",
       "2       NSE:MIDCPNIFTY24FEB12400PE  10  11  35114  MIDCPNIFTY  26074  12400.0   \n",
       "3       NSE:MIDCPNIFTY24FEB12175CE  10  11  35132  MIDCPNIFTY  26074  12175.0   \n",
       "4       NSE:MIDCPNIFTY24FEB12175PE  10  11  35133  MIDCPNIFTY  26074  12175.0   \n",
       "...                            ...  ..  ..    ...         ...    ...      ...   \n",
       "105205       NSE:NIFTY28DEC30000PE  10  11  67795       NIFTY  26000  30000.0   \n",
       "105206       NSE:NIFTY28DEC31000CE  10  11  67796       NIFTY  26000  31000.0   \n",
       "105207       NSE:NIFTY28DEC31000PE  10  11  67797       NIFTY  26000  31000.0   \n",
       "105208       NSE:NIFTY28DEC32000CE  10  11  67798       NIFTY  26000  32000.0   \n",
       "105209       NSE:NIFTY28DEC32000PE  10  11  67799       NIFTY  26000  32000.0   \n",
       "\n",
       "        CE  101000000026074  None  \n",
       "0       PE  101000000026074   NaN  \n",
       "1       CE  101000000026074   NaN  \n",
       "2       PE  101000000026074   NaN  \n",
       "3       CE  101000000026074   NaN  \n",
       "4       PE  101000000026074   NaN  \n",
       "...     ..              ...   ...  \n",
       "105205  PE  101000000026000   NaN  \n",
       "105206  CE  101000000026000   NaN  \n",
       "105207  PE  101000000026000   NaN  \n",
       "105208  CE  101000000026000   NaN  \n",
       "105209  PE  101000000026000   NaN  \n",
       "\n",
       "[105210 rows x 19 columns]"
      ]
     },
     "execution_count": 50,
     "metadata": {},
     "output_type": "execute_result"
    }
   ],
   "source": [
    "df1=pd.read_csv('https://public.fyers.in/sym_details/NSE_FO.csv')\n",
    "df1"
   ]
  },
  {
   "cell_type": "markdown",
   "metadata": {},
   "source": [
    "# MARKET ORDER"
   ]
  },
  {
   "cell_type": "code",
   "execution_count": 58,
   "metadata": {},
   "outputs": [
    {
     "name": "stdout",
     "output_type": "stream",
     "text": [
      "{'code': 1101, 'message': 'Successfully placed order', 's': 'ok', 'id': '24022300350000'}\n"
     ]
    }
   ],
   "source": [
    "data={ \"symbol\": \"NSE:HATHWAY-EQ\", \n",
    "      \"qty\": 1, \n",
    "      \"type\": 2, \n",
    "      \"side\": 1, \n",
    "      \"productType\": \"INTRADAY\", \n",
    "      \"limitPrice\": 0, \n",
    "      \"stopPrice\": 0, \n",
    "      \"validity\": \"DAY\", \n",
    "      \"stopLoss\": 0, \n",
    "      \"takeProfit\": 0, \n",
    "      \"offlineOrder\": False, \n",
    "      \"disclosedQty\": 0 }\n",
    "response1 = fyers.place_order(data=data)\n",
    "print(response1)"
   ]
  },
  {
   "cell_type": "markdown",
   "metadata": {},
   "source": [
    "# cnc market order"
   ]
  },
  {
   "cell_type": "code",
   "execution_count": 37,
   "metadata": {},
   "outputs": [
    {
     "name": "stdout",
     "output_type": "stream",
     "text": [
      "{'code': 1101, 'message': 'Successfully placed order', 's': 'ok', 'id': '24022300278556'}\n"
     ]
    }
   ],
   "source": [
    "data={ \"symbol\": \"NSE:YESBANK-EQ\", \n",
    "      \"qty\": 1, \n",
    "      \"type\": 2, \n",
    "      \"side\": 1, \n",
    "      \"productType\": \"CNC\", \n",
    "      \"limitPrice\": 0, \n",
    "      \"stopPrice\": 0, \n",
    "      \"validity\": \"DAY\", \n",
    "      \"stopLoss\": 0, \n",
    "      \"takeProfit\": 0, \n",
    "      \"offlineOrder\": False, \n",
    "      \"disclosedQty\": 0 }\n",
    "response1 = fyers.place_order(data=data)\n",
    "print(response1)"
   ]
  },
  {
   "cell_type": "markdown",
   "metadata": {},
   "source": [
    "# limit order"
   ]
  },
  {
   "cell_type": "code",
   "execution_count": 79,
   "metadata": {},
   "outputs": [
    {
     "name": "stdout",
     "output_type": "stream",
     "text": [
      "{'code': 1101, 'message': 'Successfully placed order', 's': 'ok', 'id': '24022300385686'}\n"
     ]
    }
   ],
   "source": [
    "\n",
    "data = {\n",
    "    \"symbol\":\"NSE:NTPC-EQ\",\n",
    "    \"qty\":1,\n",
    "    \"type\":1,\n",
    "    \"side\":1,\n",
    "    \"productType\":\"INTRADAY\",\n",
    "    \"limitPrice\":333,\n",
    "    \"stopPrice\":0,\n",
    "    \"validity\":\"DAY\",\n",
    "    \"disclosedQty\":0,\n",
    "    \"offlineOrder\":False,\n",
    "    \"orderTag\":\"tag1\"\n",
    "}\n",
    "response = fyers.place_order(data=data)\n",
    "print(response)"
   ]
  },
  {
   "cell_type": "markdown",
   "metadata": {},
   "source": [
    "# stop order market"
   ]
  },
  {
   "cell_type": "code",
   "execution_count": 66,
   "metadata": {},
   "outputs": [
    {
     "name": "stdout",
     "output_type": "stream",
     "text": [
      "{'code': 1101, 'message': 'Successfully placed order', 's': 'ok', 'id': '24022300367585'}\n"
     ]
    }
   ],
   "source": [
    "\n",
    "data = {\n",
    "    \"symbol\":\"NSE:HATHWAY-EQ\",\n",
    "    \"qty\":1,\n",
    "    \"type\":3,\n",
    "    \"side\":-1,\n",
    "    \"productType\":\"INTRADAY\",\n",
    "    \"limitPrice\":0,\n",
    "    \"stopPrice\":22,\n",
    "    \"validity\":\"DAY\",\n",
    "    \"disclosedQty\":0,\n",
    "    \"offlineOrder\":False,\n",
    "    \"orderTag\":\"tag1\"\n",
    "}\n",
    "response3 = fyers.place_order(data=data)\n",
    "print(response3)"
   ]
  },
  {
   "cell_type": "markdown",
   "metadata": {},
   "source": [
    "# stop limit order"
   ]
  },
  {
   "cell_type": "code",
   "execution_count": 70,
   "metadata": {},
   "outputs": [
    {
     "name": "stdout",
     "output_type": "stream",
     "text": [
      "{'code': 1101, 'message': 'Successfully placed order', 's': 'ok', 'id': '24022300369353'}\n"
     ]
    }
   ],
   "source": [
    "data = {\n",
    "    \"symbol\":\"NSE:HATHWAY-EQ\",\n",
    "    \"qty\":1,\n",
    "    \"type\":4,\n",
    "    \"side\":-1,\n",
    "    \"productType\":\"INTRADAY\",\n",
    "    \"limitPrice\":21,\n",
    "    \"stopPrice\":22,\n",
    "    \"validity\":\"DAY\",\n",
    "    \"disclosedQty\":0,\n",
    "    \"offlineOrder\":False,\n",
    "    \"orderTag\":\"tag1\"\n",
    "}\n",
    "response3 = fyers.place_order(data=data)\n",
    "print(response3)"
   ]
  },
  {
   "cell_type": "markdown",
   "metadata": {},
   "source": [
    "# cover order"
   ]
  },
  {
   "cell_type": "code",
   "execution_count": 71,
   "metadata": {},
   "outputs": [
    {
     "name": "stdout",
     "output_type": "stream",
     "text": [
      "{'code': 1101, 'message': 'Successfully placed order', 's': 'ok', 'id': '24022300375182'}\n"
     ]
    }
   ],
   "source": [
    "data = {\n",
    "    \"symbol\":\"NSE:ONGC-EQ\",\n",
    "    \"qty\":1,\n",
    "    \"type\":2,\n",
    "    \"side\":1,\n",
    "    \"productType\":\"CO\",\n",
    "    \"limitPrice\":0,\n",
    "    \"stopPrice\":0,\n",
    "    \"validity\":\"DAY\",\n",
    "    \"disclosedQty\":0,\n",
    "    \"offlineOrder\":False,\n",
    "    \"stopLoss\":3,\n",
    "    \"takeProfit\":0\n",
    "}\n",
    "response3 = fyers.place_order(data=data)\n",
    "print(response3)"
   ]
  },
  {
   "cell_type": "markdown",
   "metadata": {},
   "source": [
    "# bracket order"
   ]
  },
  {
   "cell_type": "code",
   "execution_count": 72,
   "metadata": {},
   "outputs": [
    {
     "name": "stdout",
     "output_type": "stream",
     "text": [
      "{'code': 1101, 'message': 'Successfully placed order', 's': 'ok', 'id': '24022300379282'}\n"
     ]
    }
   ],
   "source": [
    "data = {\n",
    "    \"symbol\":\"NSE:NTPC-EQ\",\n",
    "    \"qty\":1,\n",
    "    \"type\":2,\n",
    "    \"side\":1,\n",
    "    \"productType\":\"BO\",\n",
    "    \"limitPrice\":0,\n",
    "    \"stopPrice\":0,\n",
    "    \"validity\":\"DAY\",\n",
    "    \"disclosedQty\":0,\n",
    "    \"offlineOrder\":False,\n",
    "    \"stopLoss\":5,\n",
    "    \"takeProfit\":5\n",
    "}\n",
    "response3 = fyers.place_order(data=data)\n",
    "print(response3)"
   ]
  },
  {
   "cell_type": "markdown",
   "metadata": {},
   "source": [
    "# braket order with limit price"
   ]
  },
  {
   "cell_type": "code",
   "execution_count": 73,
   "metadata": {},
   "outputs": [
    {
     "name": "stdout",
     "output_type": "stream",
     "text": [
      "{'code': 1101, 'message': 'Successfully placed order', 's': 'ok', 'id': '24022300379282'}\n"
     ]
    }
   ],
   "source": [
    "data = {\n",
    "    \"symbol\":\"NSE:NTPC-EQ\",\n",
    "    \"qty\":1,\n",
    "    \"type\":1,\n",
    "    \"side\":1,\n",
    "    \"productType\":\"BO\",\n",
    "    \"limitPrice\":335,\n",
    "    \"stopPrice\":0,\n",
    "    \"validity\":\"DAY\",\n",
    "    \"disclosedQty\":0,\n",
    "    \"offlineOrder\":False,\n",
    "    \"stopLoss\":5,\n",
    "    \"takeProfit\":5\n",
    "}\n",
    "response6 = fyers.place_order(data=data)\n",
    "print(response3)"
   ]
  },
  {
   "cell_type": "markdown",
   "metadata": {},
   "source": [
    "# modify order"
   ]
  },
  {
   "cell_type": "code",
   "execution_count": 80,
   "metadata": {},
   "outputs": [
    {
     "name": "stdout",
     "output_type": "stream",
     "text": [
      "{'code': 1102, 'message': 'Successfully modified order', 's': 'ok', 'id': '24022300385686'}\n"
     ]
    }
   ],
   "source": [
    "orderId = \"24022300385686\"\n",
    "data = {\n",
    "    \"id\":orderId, \n",
    "    \"type\":1, \n",
    "    \"limitPrice\": 332, \n",
    "    \"qty\":1\n",
    "}\n",
    "\n",
    "response = fyers.modify_order(data=data)\n",
    "print(response)"
   ]
  },
  {
   "cell_type": "markdown",
   "metadata": {},
   "source": [
    "# cancel order"
   ]
  },
  {
   "cell_type": "code",
   "execution_count": 77,
   "metadata": {},
   "outputs": [
    {
     "name": "stdout",
     "output_type": "stream",
     "text": [
      "{'code': 1103, 'message': 'Successfully cancelled order', 's': 'ok', 'id': '24022300382793'}\n"
     ]
    }
   ],
   "source": [
    "\n",
    "data = {\"id\":'24022300382793-BO-1'}\n",
    "\n",
    "responsel = fyers.cancel_order(data=data)\n",
    "print(responsel)"
   ]
  }
 ],
 "metadata": {
  "kernelspec": {
   "display_name": "fyerssv3",
   "language": "python",
   "name": "python3"
  },
  "language_info": {
   "codemirror_mode": {
    "name": "ipython",
    "version": 3
   },
   "file_extension": ".py",
   "mimetype": "text/x-python",
   "name": "python",
   "nbconvert_exporter": "python",
   "pygments_lexer": "ipython3",
   "version": "3.9.6"
  }
 },
 "nbformat": 4,
 "nbformat_minor": 2
}
