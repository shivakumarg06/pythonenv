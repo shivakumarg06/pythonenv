{
 "cells": [
  {
   "cell_type": "code",
   "execution_count": 18,
   "id": "eea3ac5f-2227-467a-9fac-c2f6d41c24d2",
   "metadata": {},
   "outputs": [],
   "source": [
    "import backtrader as bt\n",
    "import yfinance as yf\n",
    "from datetime import datetime\n",
    "\n"
   ]
  },
  {
   "cell_type": "code",
   "execution_count": 2,
   "id": "d8bb5cc0-b96b-47cb-8631-1ed171285ee9",
   "metadata": {},
   "outputs": [],
   "source": [
    "class firstStrategy(bt.Strategy):\n",
    "    def __init__(self):\n",
    "        # initializing rsi, slow and fast sma\n",
    "        self.rsi = bt.indicators.RSI(self.data.close, period=21)\n",
    "        self.fast_sma = bt.indicators.SMA(self.data.close, period=50)\n",
    "        self.slow_sma = bt.indicators.SMA(self.data.close, period=100)\n",
    "        self.crossup = bt.ind.CrossUp(self.fast_sma, self.slow_sma)\n",
    "\n",
    "    def next(self):\n",
    "        if not self.position:\n",
    "            if self.rsi > 30 and self.fast_sma > self.slow_sma:  # when rsi > 30 and fast_sma cuts slow_sma\n",
    "                self.buy(size=100)  # buying 100 quantities \n",
    "        else:\n",
    "            if self.rsi < 70:  # when rsi is below 70 line\n",
    "                self.sell(size=100)  # selling 100 quantities\n"
   ]
  },
  {
   "cell_type": "code",
   "execution_count": 3,
   "id": "5472d75a-3f71-45e1-a885-f8defb0e3602",
   "metadata": {},
   "outputs": [],
   "source": [
    "def __init__(self):\n",
    "        # initializing rsi, slow and fast sma\n",
    "        self.rsi = bt.indicators.RSI(self.data.close, period=21)\n",
    "        self.fast_sma = bt.indicators.SMA(self.data.close, period=50)\n",
    "        self.slow_sma = bt.indicators.SMA(self.data.close, period=100)\n",
    "        self.crossup = bt.ind.CrossUp(self.fast_sma, self.slow_sma)\n"
   ]
  },
  {
   "cell_type": "code",
   "execution_count": 4,
   "id": "051ab645-1149-4f55-a3b8-e4b958325ac1",
   "metadata": {},
   "outputs": [],
   "source": [
    "def next(self):\n",
    "    if not self.position:\n",
    "        # BUYING Condition\n",
    "        if self.rsi > 30 and self.fast_sma > self.slow_sma:  # when rsi > 30 and fast_sma cuts slow_sma\n",
    "            self.buy(size=100)  # buying 100 quantities of equity\n",
    "    else:\n",
    "        # SELLING Condition\n",
    "        if self.rsi < 70:  # when rsi is below 70 line\n",
    "            self.sell(size=100)  # selling 100 quantities of equity\n"
   ]
  },
  {
   "cell_type": "code",
   "execution_count": 5,
   "id": "9ba5e5a0-3056-4cc2-a6dd-a18702f5eb5c",
   "metadata": {},
   "outputs": [],
   "source": [
    "startcash = 100000\n"
   ]
  },
  {
   "cell_type": "code",
   "execution_count": 6,
   "id": "6f4d1a26-079d-47d4-9928-d9f3e47c1ced",
   "metadata": {},
   "outputs": [],
   "source": [
    "cerebro = bt.Cerebro() # It is the main class in backtrader.\n"
   ]
  },
  {
   "cell_type": "code",
   "execution_count": 7,
   "id": "a6233f69-86ff-4f24-9ecd-676de449449b",
   "metadata": {},
   "outputs": [
    {
     "data": {
      "text/plain": [
       "0"
      ]
     },
     "execution_count": 7,
     "metadata": {},
     "output_type": "execute_result"
    }
   ],
   "source": [
    "cerebro.addstrategy(firstStrategy) # adding strategy in Cerebro engine\n"
   ]
  },
  {
   "cell_type": "code",
   "execution_count": 17,
   "id": "939be43e-02bd-4b21-8cc9-20bf52b64abc",
   "metadata": {},
   "outputs": [],
   "source": [
    "# Get HDFCBANK data from Yahoo Finance.\n",
    "# ----- Use below code to fetch data from Yahoo Finance CSV  -------\n",
    "data = bt.feeds.YahooFinanceCSVData(\n",
    "    dataname=\"HDFCBANK.NS.csv\",\n",
    "    fromdate=datetime(2020,11,1),\n",
    "    todate =datetime(2021,11,1))\n"
   ]
  },
  {
   "cell_type": "code",
   "execution_count": 12,
   "id": "4201acc3-6b5a-4898-b860-de320a5daea1",
   "metadata": {},
   "outputs": [
    {
     "data": {
      "text/plain": [
       "<backtrader.feeds.yahoo.YahooFinanceCSVData at 0x7f28a39b3790>"
      ]
     },
     "execution_count": 12,
     "metadata": {},
     "output_type": "execute_result"
    }
   ],
   "source": [
    "cerebro.adddata(data)\n"
   ]
  },
  {
   "cell_type": "code",
   "execution_count": 13,
   "id": "ffb7f46f-5310-4aa0-b679-d2132021120e",
   "metadata": {},
   "outputs": [],
   "source": [
    "cerebro.broker.setcommission(commission=0.002)\n"
   ]
  },
  {
   "cell_type": "code",
   "execution_count": 14,
   "id": "722a5924-b25d-4ff7-91b0-e53bd3670956",
   "metadata": {},
   "outputs": [],
   "source": [
    "cerebro.broker.setcash(startcash)\n"
   ]
  },
  {
   "cell_type": "code",
   "execution_count": 15,
   "id": "432a3267-4587-48fc-b83a-0da891a0fa0e",
   "metadata": {},
   "outputs": [
    {
     "ename": "FileNotFoundError",
     "evalue": "[Errno 2] No such file or directory: 'HDFCBANK.NS.csv'",
     "output_type": "error",
     "traceback": [
      "\u001b[0;31m---------------------------------------------------------------------------\u001b[0m",
      "\u001b[0;31mFileNotFoundError\u001b[0m                         Traceback (most recent call last)",
      "Cell \u001b[0;32mIn[15], line 1\u001b[0m\n\u001b[0;32m----> 1\u001b[0m \u001b[43mcerebro\u001b[49m\u001b[38;5;241;43m.\u001b[39;49m\u001b[43mrun\u001b[49m\u001b[43m(\u001b[49m\u001b[43m)\u001b[49m\n",
      "File \u001b[0;32m/usr/local/lib/python3.10/dist-packages/backtrader/cerebro.py:1132\u001b[0m, in \u001b[0;36mCerebro.run\u001b[0;34m(self, **kwargs)\u001b[0m\n\u001b[1;32m   1128\u001b[0m \u001b[38;5;28;01mif\u001b[39;00m \u001b[38;5;129;01mnot\u001b[39;00m \u001b[38;5;28mself\u001b[39m\u001b[38;5;241m.\u001b[39m_dooptimize \u001b[38;5;129;01mor\u001b[39;00m \u001b[38;5;28mself\u001b[39m\u001b[38;5;241m.\u001b[39mp\u001b[38;5;241m.\u001b[39mmaxcpus \u001b[38;5;241m==\u001b[39m \u001b[38;5;241m1\u001b[39m:\n\u001b[1;32m   1129\u001b[0m     \u001b[38;5;66;03m# If no optimmization is wished ... or 1 core is to be used\u001b[39;00m\n\u001b[1;32m   1130\u001b[0m     \u001b[38;5;66;03m# let's skip process \"spawning\"\u001b[39;00m\n\u001b[1;32m   1131\u001b[0m     \u001b[38;5;28;01mfor\u001b[39;00m iterstrat \u001b[38;5;129;01min\u001b[39;00m iterstrats:\n\u001b[0;32m-> 1132\u001b[0m         runstrat \u001b[38;5;241m=\u001b[39m \u001b[38;5;28;43mself\u001b[39;49m\u001b[38;5;241;43m.\u001b[39;49m\u001b[43mrunstrategies\u001b[49m\u001b[43m(\u001b[49m\u001b[43miterstrat\u001b[49m\u001b[43m)\u001b[49m\n\u001b[1;32m   1133\u001b[0m         \u001b[38;5;28mself\u001b[39m\u001b[38;5;241m.\u001b[39mrunstrats\u001b[38;5;241m.\u001b[39mappend(runstrat)\n\u001b[1;32m   1134\u001b[0m         \u001b[38;5;28;01mif\u001b[39;00m \u001b[38;5;28mself\u001b[39m\u001b[38;5;241m.\u001b[39m_dooptimize:\n",
      "File \u001b[0;32m/usr/local/lib/python3.10/dist-packages/backtrader/cerebro.py:1215\u001b[0m, in \u001b[0;36mCerebro.runstrategies\u001b[0;34m(self, iterstrat, predata)\u001b[0m\n\u001b[1;32m   1213\u001b[0m \u001b[38;5;28;01mif\u001b[39;00m \u001b[38;5;28mself\u001b[39m\u001b[38;5;241m.\u001b[39m_exactbars \u001b[38;5;241m<\u001b[39m \u001b[38;5;241m1\u001b[39m:  \u001b[38;5;66;03m# datas can be full length\u001b[39;00m\n\u001b[1;32m   1214\u001b[0m     data\u001b[38;5;241m.\u001b[39mextend(size\u001b[38;5;241m=\u001b[39m\u001b[38;5;28mself\u001b[39m\u001b[38;5;241m.\u001b[39mparams\u001b[38;5;241m.\u001b[39mlookahead)\n\u001b[0;32m-> 1215\u001b[0m \u001b[43mdata\u001b[49m\u001b[38;5;241;43m.\u001b[39;49m\u001b[43m_start\u001b[49m\u001b[43m(\u001b[49m\u001b[43m)\u001b[49m\n\u001b[1;32m   1216\u001b[0m \u001b[38;5;28;01mif\u001b[39;00m \u001b[38;5;28mself\u001b[39m\u001b[38;5;241m.\u001b[39m_dopreload:\n\u001b[1;32m   1217\u001b[0m     data\u001b[38;5;241m.\u001b[39mpreload()\n",
      "File \u001b[0;32m/usr/local/lib/python3.10/dist-packages/backtrader/feed.py:203\u001b[0m, in \u001b[0;36mAbstractDataBase._start\u001b[0;34m(self)\u001b[0m\n\u001b[1;32m    202\u001b[0m \u001b[38;5;28;01mdef\u001b[39;00m \u001b[38;5;21m_start\u001b[39m(\u001b[38;5;28mself\u001b[39m):\n\u001b[0;32m--> 203\u001b[0m     \u001b[38;5;28;43mself\u001b[39;49m\u001b[38;5;241;43m.\u001b[39;49m\u001b[43mstart\u001b[49m\u001b[43m(\u001b[49m\u001b[43m)\u001b[49m\n\u001b[1;32m    205\u001b[0m     \u001b[38;5;28;01mif\u001b[39;00m \u001b[38;5;129;01mnot\u001b[39;00m \u001b[38;5;28mself\u001b[39m\u001b[38;5;241m.\u001b[39m_started:\n\u001b[1;32m    206\u001b[0m         \u001b[38;5;28mself\u001b[39m\u001b[38;5;241m.\u001b[39m_start_finish()\n",
      "File \u001b[0;32m/usr/local/lib/python3.10/dist-packages/backtrader/feeds/yahoo.py:94\u001b[0m, in \u001b[0;36mYahooFinanceCSVData.start\u001b[0;34m(self)\u001b[0m\n\u001b[1;32m     93\u001b[0m \u001b[38;5;28;01mdef\u001b[39;00m \u001b[38;5;21mstart\u001b[39m(\u001b[38;5;28mself\u001b[39m):\n\u001b[0;32m---> 94\u001b[0m     \u001b[38;5;28;43msuper\u001b[39;49m\u001b[43m(\u001b[49m\u001b[43mYahooFinanceCSVData\u001b[49m\u001b[43m,\u001b[49m\u001b[43m \u001b[49m\u001b[38;5;28;43mself\u001b[39;49m\u001b[43m)\u001b[49m\u001b[38;5;241;43m.\u001b[39;49m\u001b[43mstart\u001b[49m\u001b[43m(\u001b[49m\u001b[43m)\u001b[49m\n\u001b[1;32m     96\u001b[0m     \u001b[38;5;28;01mif\u001b[39;00m \u001b[38;5;129;01mnot\u001b[39;00m \u001b[38;5;28mself\u001b[39m\u001b[38;5;241m.\u001b[39mparams\u001b[38;5;241m.\u001b[39mreverse:\n\u001b[1;32m     97\u001b[0m         \u001b[38;5;28;01mreturn\u001b[39;00m\n",
      "File \u001b[0;32m/usr/local/lib/python3.10/dist-packages/backtrader/feed.py:675\u001b[0m, in \u001b[0;36mCSVDataBase.start\u001b[0;34m(self)\u001b[0m\n\u001b[1;32m    672\u001b[0m         \u001b[38;5;28mself\u001b[39m\u001b[38;5;241m.\u001b[39mf \u001b[38;5;241m=\u001b[39m \u001b[38;5;28mself\u001b[39m\u001b[38;5;241m.\u001b[39mp\u001b[38;5;241m.\u001b[39mdataname\n\u001b[1;32m    673\u001b[0m     \u001b[38;5;28;01melse\u001b[39;00m:\n\u001b[1;32m    674\u001b[0m         \u001b[38;5;66;03m# Let an exception propagate to let the caller know\u001b[39;00m\n\u001b[0;32m--> 675\u001b[0m         \u001b[38;5;28mself\u001b[39m\u001b[38;5;241m.\u001b[39mf \u001b[38;5;241m=\u001b[39m \u001b[43mio\u001b[49m\u001b[38;5;241;43m.\u001b[39;49m\u001b[43mopen\u001b[49m\u001b[43m(\u001b[49m\u001b[38;5;28;43mself\u001b[39;49m\u001b[38;5;241;43m.\u001b[39;49m\u001b[43mp\u001b[49m\u001b[38;5;241;43m.\u001b[39;49m\u001b[43mdataname\u001b[49m\u001b[43m,\u001b[49m\u001b[43m \u001b[49m\u001b[38;5;124;43m'\u001b[39;49m\u001b[38;5;124;43mr\u001b[39;49m\u001b[38;5;124;43m'\u001b[39;49m\u001b[43m)\u001b[49m\n\u001b[1;32m    677\u001b[0m \u001b[38;5;28;01mif\u001b[39;00m \u001b[38;5;28mself\u001b[39m\u001b[38;5;241m.\u001b[39mp\u001b[38;5;241m.\u001b[39mheaders:\n\u001b[1;32m    678\u001b[0m     \u001b[38;5;28mself\u001b[39m\u001b[38;5;241m.\u001b[39mf\u001b[38;5;241m.\u001b[39mreadline()  \u001b[38;5;66;03m# skip the headers\u001b[39;00m\n",
      "\u001b[0;31mFileNotFoundError\u001b[0m: [Errno 2] No such file or directory: 'HDFCBANK.NS.csv'"
     ]
    }
   ],
   "source": [
    "cerebro.run()\n"
   ]
  },
  {
   "cell_type": "code",
   "execution_count": null,
   "id": "18fb3230-9b3e-4ee4-a859-1ca9ad211e00",
   "metadata": {},
   "outputs": [],
   "source": []
  }
 ],
 "metadata": {
  "kernelspec": {
   "display_name": "Python 3 (ipykernel)",
   "language": "python",
   "name": "python3"
  },
  "language_info": {
   "codemirror_mode": {
    "name": "ipython",
    "version": 3
   },
   "file_extension": ".py",
   "mimetype": "text/x-python",
   "name": "python",
   "nbconvert_exporter": "python",
   "pygments_lexer": "ipython3",
   "version": "3.10.12"
  }
 },
 "nbformat": 4,
 "nbformat_minor": 5
}
