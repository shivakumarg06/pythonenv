{
 "cells": [
  {
   "cell_type": "code",
   "execution_count": null,
   "id": "b3648dfc-8563-4ba6-816d-510cc28a693e",
   "metadata": {},
   "outputs": [],
   "source": [
    "# pip install pandas numpy mplfinance matplotlib ta fyers-apiv3"
   ]
  },
  {
   "cell_type": "code",
   "execution_count": 24,
   "id": "480d12df-d9c0-4dc2-8c36-17496bbf1089",
   "metadata": {},
   "outputs": [],
   "source": [
    "from fyers_api import fyersModel\n",
    "from fyers_api import accessToken\n",
    "from fyers_apiv3 import fyersModel\n",
    "import pandas as pd\n",
    "import time\n",
    "import numpy as np\n",
    "import math\n",
    "from datetime import date\n",
    "import mplfinance as mpf\n",
    "from ta.trend import MACD\n",
    "import matplotlib.pyplot as plt\n",
    "import ta\n",
    "from urllib.parse import urlparse, parse_qs\n",
    "import sys\n",
    "\n",
    "sys.path.append(\"F:/GitHub/pythonenv/PythonEnvProjects\")\n",
    "from PositionManager import PositionManager"
   ]
  },
  {
   "cell_type": "code",
   "execution_count": 28,
   "id": "578cdbb5-7c7d-4300-bcfe-4cf635ed78ed",
   "metadata": {},
   "outputs": [],
   "source": [
    "client_id = \"3IX55X9A3L-100\"\n",
    "secret_key = \"C6XF65EHHK\"\n",
    "redirect_uri = \"https://trade.fyers.in/api-login/redirect-uri/index.html\""
   ]
  },
  {
   "cell_type": "code",
   "execution_count": 29,
   "id": "5db621f1-acf9-4280-bf84-bbfb4b010ebf",
   "metadata": {},
   "outputs": [],
   "source": [
    "session = accessToken.SessionModel(\n",
    "    client_id=client_id,\n",
    "    secret_key=secret_key,\n",
    "    redirect_uri=redirect_uri,\n",
    "    response_type=\"code\",\n",
    "    grant_type=\"authorization_code\",\n",
    ")\n",
    "\n",
    "\n",
    "response = session.generate_authcode()"
   ]
  },
  {
   "cell_type": "code",
   "execution_count": 30,
   "id": "beeeb3ff-8f7c-483e-919c-3236d802e242",
   "metadata": {},
   "outputs": [
    {
     "name": "stdout",
     "output_type": "stream",
     "text": [
      "https://api.fyers.in/api/v1/auth?client_id=3IX55X9A3L-100&redirect_uri=https%3A%2F%2Ftrade.fyers.in%2Fapi-login%2Fredirect-uri%2Findex.html&response_type=code&state=None\n"
     ]
    }
   ],
   "source": [
    "print(response)"
   ]
  },
  {
   "cell_type": "code",
   "execution_count": null,
   "id": "75d64f1a",
   "metadata": {},
   "outputs": [],
   "source": [
    "auth_code = \"eyJ0eXAiOiJKV1QiLCJhbGciOiJIUzI1NiJ9.eyJpc3MiOiJhcGkubG9naW4uZnllcnMuaW4iLCJpYXQiOjE3MTQ5MzMwMDAsImV4cCI6MTcxNDk2MzAwMCwibmJmIjoxNzE0OTMyNDAwLCJhdWQiOiJbXCJ4OjBcIiwgXCJ4OjFcIiwgXCJ4OjJcIiwgXCJkOjFcIiwgXCJkOjJcIiwgXCJ4OjFcIiwgXCJ4OjBcIl0iLCJzdWIiOiJhdXRoX2NvZGUiLCJkaXNwbGF5X25hbWUiOiJZSzA3MDk2Iiwib21zIjoiSzEiLCJoc21fa2V5IjoiZjEzMTc5N2VlMjVmN2I4YTRjZjExNTU0OWFlMDM1ODIyMzA5YzczN2FjNDIwNGRiNGVmNGRmNmMiLCJub25jZSI6IiIsImFwcF9pZCI6IlZWQ0ZUQ0I5WTciLCJ1dWlkIjoiZDdhNWU3OGRlN2ZkNGFiYjk3NWE2MzRmOWM0ODc5ZGIiLCJpcEFkZHIiOiIwLjAuMC4wIiwic2NvcGUiOiIifQ.ecs6BepmH97Mgsbi2_LrIUWkTa2hO2w-XunGXfwYkJ0\""
   ]
  },
  {
   "cell_type": "code",
   "execution_count": null,
   "id": "92c02deb-59f1-4732-8a94-7f11fc2e0c35",
   "metadata": {},
   "outputs": [],
   "source": [
    "session.set_token(auth_code)\n",
    "response = session.generate_token()\n",
    "access_token = response[\"access_token\"]\n",
    "# fyers = fyersModel.FyersModel(\n",
    "#     client_id=client_id, token=access_token, log_path=\"C:\\\\fyersdata\"\n",
    "# )"
   ]
  },
  {
   "cell_type": "code",
   "execution_count": null,
   "id": "b5e86451",
   "metadata": {},
   "outputs": [],
   "source": [
    "# Initialize PositionManager instance\n",
    "position_manager = PositionManager()"
   ]
  },
  {
   "cell_type": "code",
   "execution_count": null,
   "id": "6ed0493b-9def-4f4a-8e99-48bca56e7c23",
   "metadata": {},
   "outputs": [],
   "source": [
    "responseValidate = fyers.get_profile()\n",
    "print(responseValidate)"
   ]
  },
  {
   "cell_type": "code",
   "execution_count": null,
   "id": "9a14706d",
   "metadata": {},
   "outputs": [],
   "source": [
    "# Initialize the FyersModel instance with your client_id, access_token, and enable async mode\n",
    "fyers = fyersModel.FyersModel(\n",
    "    client_id=client_id, is_async=False, token=access_token, log_path=\"C:\\\\fyersdata\"\n",
    ")\n",
    "\n",
    "fyersData = fyers.history(data=data)\n",
    "print(fyersData)"
   ]
  },
  {
   "cell_type": "code",
   "execution_count": null,
   "id": "3b69750b",
   "metadata": {},
   "outputs": [],
   "source": [
    "def get_fyers_data(expiry, symbol, start_date, end_date):\n",
    "    try:\n",
    "        # Get historical data\n",
    "        data = {\n",
    "            \"expiry\": expiry,\n",
    "            \"symbol\": symbol,\n",
    "            \"resolution\": \"1\",\n",
    "            \"date_format\": \"1\",\n",
    "            \"range_from\": start_date,\n",
    "            \"range_to\": end_date,\n",
    "        }\n",
    "        response = fyers.history(data=data)\n",
    "        data = response[\"data\"][\"candles\"]\n",
    "\n",
    "        # Process data\n",
    "        df = pd.DataFrame(\n",
    "            data, columns=[\"Date\", \"Open\", \"High\", \"Low\", \"Close\", \"Volume\"]\n",
    "        )\n",
    "        df[\"Date\"] = pd.to_datetime(df[\"Date\"], unit=\"s\")\n",
    "        df.set_index(\"Date\", inplace=True)\n",
    "        df.sort_index(inplace=True)\n",
    "        df.index = pd.to_datetime(df.index)\n",
    "        return df\n",
    "    except AuthorizationException as e:\n",
    "        print(e.message)\n",
    "        return None"
   ]
  },
  {
   "cell_type": "code",
   "execution_count": null,
   "id": "6f5c8865",
   "metadata": {},
   "outputs": [],
   "source": [
    "# Function to select the expiration date based on some predefined logic\n",
    "def select_expiration_date():\n",
    "    # Example: Choose the nearest Friday as the expiration date\n",
    "    today = dt.date.today()\n",
    "    friday = today + dt.timedelta((4 - today.weekday()) % 7)\n",
    "    return friday.strftime(\"%Y-%m-%d\")"
   ]
  },
  {
   "cell_type": "code",
   "execution_count": null,
   "id": "393e2d1a",
   "metadata": {},
   "outputs": [],
   "source": [
    "def get_fyers_data(expiry, symbol, start_date, end_date):\n",
    "    try:\n",
    "        # Get historical data\n",
    "        data = {\n",
    "            \"expiry\": expiry,\n",
    "            \"symbol\": symbol,\n",
    "            \"resolution\": \"1\",\n",
    "            \"date_format\": \"1\",\n",
    "            \"range_from\": start_date,\n",
    "            \"range_to\": end_date,\n",
    "        }\n",
    "        response = fyers.history(data=data)\n",
    "        data = response[\"data\"][\"candles\"]\n",
    "\n",
    "        # Process data\n",
    "        df = pd.DataFrame(\n",
    "            data, columns=[\"Date\", \"Open\", \"High\", \"Low\", \"Close\", \"Volume\"]\n",
    "        )\n",
    "        df[\"Date\"] = pd.to_datetime(df[\"Date\"], unit=\"s\")\n",
    "        df.set_index(\"Date\", inplace=True)\n",
    "        df.sort_index(inplace=True)\n",
    "        df.index = pd.to_datetime(df.index)\n",
    "        return df\n",
    "    except AuthorizationException as e:\n",
    "        print(e.message)\n",
    "        return None"
   ]
  },
  {
   "cell_type": "code",
   "execution_count": null,
   "id": "5a6b8cfd",
   "metadata": {},
   "outputs": [],
   "source": [
    "def long_options_strategy(data):\n",
    "    # Calculate MACD\n",
    "    data[\"MACD\"], data[\"Signal\"], _ = ta.trend.macd(data[\"Close\"])\n",
    "\n",
    "    # Generate entry and exit signals\n",
    "    entry_points_call = []\n",
    "    entry_points_put = []\n",
    "    exit_points_call = []\n",
    "\n",
    "    for i in range(1, len(data)):\n",
    "        # Entry condition for Long Call\n",
    "        if data[\"MACD\"][i] > data[\"Signal\"][i] and data[\"Close\"][i] > data[\"ema_9\"][i]:\n",
    "            entry_points_call.append(data.index[i])\n",
    "\n",
    "        # Entry condition for Long Put\n",
    "        if data[\"MACD\"][i] < data[\"Signal\"][i] and data[\"Close\"][i] < data[\"ema_9\"][i]:\n",
    "            entry_points_put.append(data.index[i])\n",
    "\n",
    "        # Exit condition for both Long Call and Long Put\n",
    "        if data[\"Close\"][i] < data[\"ema_9\"][i]:\n",
    "            exit_points_call.append(data.index[i])\n",
    "\n",
    "    return entry_points_call, entry_points_put, exit_points_call"
   ]
  },
  {
   "cell_type": "code",
   "execution_count": null,
   "id": "7099b29c",
   "metadata": {},
   "outputs": [],
   "source": [
    "def backtest_strategy(data):\n",
    "    # Add 9-period exponential moving average (EMA)\n",
    "    data[\"ema_9\"] = data[\"Close\"].ewm(span=9, adjust=False).mean()\n",
    "\n",
    "    # Generate trade signals\n",
    "    entry_points_call, entry_points_put, exit_points_call = long_options_strategy(data)\n",
    "\n",
    "    # Backtest\n",
    "    positions = []\n",
    "    for i in range(len(data)):\n",
    "        if data.index[i] in entry_points_call:\n",
    "            position = position_manager.open_position(\n",
    "                \"Call\", data[\"Close\"][i], data.index[i], \"Long Call\"\n",
    "            )\n",
    "            position.set_stop_loss(\n",
    "                data[\"Low\"][i] * 0.95\n",
    "            )  # Set stop-loss 5% below entry price\n",
    "            position.set_take_profit(\n",
    "                data[\"High\"][i] * 1.1\n",
    "            )  # Set take-profit 10% above entry price\n",
    "            positions.append(position)\n",
    "        elif data.index[i] in entry_points_put:\n",
    "            position = position_manager.open_position(\n",
    "                \"Put\", data[\"Close\"][i], data.index[i], \"Long Put\"\n",
    "            )\n",
    "            position.set_stop_loss(\n",
    "                data[\"High\"][i] * 1.05\n",
    "            )  # Set stop-loss 5% above entry price\n",
    "            position.set_take_profit(\n",
    "                data[\"Low\"][i] * 0.9\n",
    "            )  # Set take-profit 10% below entry price\n",
    "            positions.append(position)\n",
    "        elif data.index[i] in exit_points_call:\n",
    "            position_manager.close_position(0, data[\"Close\"][i], data.index[i])\n",
    "\n",
    "    return positions"
   ]
  },
  {
   "cell_type": "code",
   "execution_count": null,
   "id": "d7f2c95d",
   "metadata": {},
   "outputs": [],
   "source": [
    "def main():\n",
    "    # Fetch historical data from Fyers API\n",
    "    expiry = \"NSE:NIFTY24509\"\n",
    "    symbol = \"NSE:NIFTY50-INDEX\"\n",
    "    start_date = \"2023-01-01\"\n",
    "    end_date = \"2023-01-31\"\n",
    "    ohlc = get_fyers_data(expiry, symbol, start_date, end_date)\n",
    "\n",
    "    if ohlc is not None:\n",
    "        # Backtest strategy\n",
    "        positions = backtest_strategy(ohlc)\n",
    "\n",
    "        # Print trade information\n",
    "        for position in positions:\n",
    "            print(\n",
    "                f\"Position Type: {position.position_type}, Entry Price: {position.entry_price}, Entry Time: {position.entry_time}\"\n",
    "            )\n",
    "\n",
    "        # Plot candlestick chart with entry and exit points\n",
    "        mpf.plot(\n",
    "            ohlc,\n",
    "            type=\"candle\",\n",
    "            volume=False,\n",
    "            style=\"yahoo\",\n",
    "            title=\"Nifty50\",\n",
    "            ylabel=\"Price\",\n",
    "            addplot=[\n",
    "                mpf.make_addplot(ohlc[\"ema_9\"]),\n",
    "                mpf.make_addplot(\n",
    "                    ohlc.loc[positions.index][\"Close\"],\n",
    "                    scatter=True,\n",
    "                    markersize=100,\n",
    "                    marker=\"x\",\n",
    "                    color=\"r\",\n",
    "                ),\n",
    "            ],\n",
    "            figscale=2,\n",
    "            figsize=(15, 8),\n",
    "        )\n",
    "    else:\n",
    "        print(\"Failed to fetch data from Fyers API\")\n",
    "\n",
    "\n",
    "if __name__ == \"__main__\":\n",
    "    main()"
   ]
  },
  {
   "cell_type": "code",
   "execution_count": null,
   "id": "55079b30",
   "metadata": {},
   "outputs": [],
   "source": []
  }
 ],
 "metadata": {
  "kernelspec": {
   "display_name": "Python 3 (ipykernel)",
   "language": "python",
   "name": "python3"
  },
  "language_info": {
   "codemirror_mode": {
    "name": "ipython",
    "version": 3
   },
   "file_extension": ".py",
   "mimetype": "text/x-python",
   "name": "python",
   "nbconvert_exporter": "python",
   "pygments_lexer": "ipython3",
   "version": "3.12.3"
  }
 },
 "nbformat": 4,
 "nbformat_minor": 5
}
