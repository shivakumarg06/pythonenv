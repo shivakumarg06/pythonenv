{
 "cells": [
  {
   "cell_type": "code",
   "execution_count": null,
   "metadata": {},
   "outputs": [],
   "source": [
    "import credentials as cd\n",
    "from fyers_apiv3 import fyersModel\n",
    "import pandas as pd\n",
    "import datetime as dt"
   ]
  },
  {
   "cell_type": "code",
   "execution_count": null,
   "metadata": {},
   "outputs": [],
   "source": [
    "with open(\"access.txt\", \"r\") as a:\n",
    "    access_token = a.read()\n",
    "client_id = cd.client_id\n",
    "\n",
    "# Initialize the FyersModel instance with your client_id, access_token, and enable async mode\n",
    "fyers = fyersModel.FyersModel(\n",
    "    client_id=client_id, is_async=False, token=access_token, log_path=\"\"\n",
    ")"
   ]
  },
  {
   "cell_type": "code",
   "execution_count": null,
   "id": "83dd505e-543d-48a7-b5dd-d28bf0c18e43",
   "metadata": {},
   "outputs": [],
   "source": [
    "# quotes data\n",
    "data = {\n",
    "    \"symbols\": \"NSE:NIFTY50-INDEX\",\n",
    "}\n",
    "\n",
    "response = fyers.quotes(data=data)\n",
    "print(response)\n",
    "d = response[\"d\"][0][\"v\"][\"lp\"]\n",
    "print(d)\n",
    "\n",
    "\n",
    "# # import pandas as pd\n",
    "# # df=pd.DataFrame(d)\n",
    "# # print(df)"
   ]
  },
  {
   "cell_type": "code",
   "execution_count": null,
   "metadata": {},
   "outputs": [],
   "source": [
    "# depth data\n",
    "data = {\"symbol\": \"MCX:SILVER24MARFUT\", \"ohlcv_flag\": \"1\"}\n",
    "\n",
    "response = fyers.depth(data=data)\n",
    "print(response)"
   ]
  }
 ],
 "metadata": {
  "kernelspec": {
   "display_name": "Python 3",
   "language": "python",
   "name": "python3"
  },
  "language_info": {
   "codemirror_mode": {
    "name": "ipython",
    "version": 3
   },
   "file_extension": ".py",
   "mimetype": "text/x-python",
   "name": "python",
   "nbconvert_exporter": "python",
   "pygments_lexer": "ipython3",
   "version": "3.12.3"
  }
 },
 "nbformat": 4,
 "nbformat_minor": 2
}
