{
 "cells": [
  {
   "cell_type": "code",
   "execution_count": 13,
   "metadata": {},
   "outputs": [
    {
     "data": {
      "text/plain": [
       "'https://www.google.com/?s=ok&code=200&auth_code=eyJ0eXAiOiJKV1QiLCJhbGciOiJIUzI1NiJ9.eyJpc3MiOiJhcGkubG9naW4uZnllcnMuaW4iLCJpYXQiOjE3MDg1Mjg4NDMsImV4cCI6MTcwODU1ODg0MywibmJmIjoxNzA4NTI4MjQzLCJhdWQiOiJbXCJ4OjBcIiwgXCJ4OjFcIiwgXCJ4OjJcIiwgXCJkOjFcIiwgXCJkOjJcIiwgXCJ4OjFcIiwgXCJ4OjBcIl0iLCJzdWIiOiJhdXRoX2NvZGUiLCJkaXNwbGF5X25hbWUiOiJYUzQ1NDc0Iiwib21zIjoiSzEiLCJoc21fa2V5IjoiMWUxNWZiN2NkM2JlZmExZWM4ZWJmNDE2NDBhMGFmZWU5ZWZlYmNiZTE1YTQxYzRlMWU5NjFjNzEiLCJub25jZSI6IiIsImFwcF9pZCI6IjVZS1Q5NDBYNEIiLCJ1dWlkIjoiY2I3MDhkZmMyNDM0NDVmMjg0OGE1YTBhNjQ2MTM4ZWIiLCJpcEFkZHIiOiIwLjAuMC4wIiwic2NvcGUiOiIifQ.LcQ1MDpoJRPIfO2WCj5wuSqIxKgYhqDdFHCReDe-X68&state=None'"
      ]
     },
     "execution_count": 13,
     "metadata": {},
     "output_type": "execute_result"
    }
   ],
   "source": [
    "uri='https://www.google.com/?s=ok&code=200&auth_code=eyJ0eXAiOiJKV1QiLCJhbGciOiJIUzI1NiJ9.eyJpc3MiOiJhcGkubG9naW4uZnllcnMuaW4iLCJpYXQiOjE3MDg1Mjg4NDMsImV4cCI6MTcwODU1ODg0MywibmJmIjoxNzA4NTI4MjQzLCJhdWQiOiJbXCJ4OjBcIiwgXCJ4OjFcIiwgXCJ4OjJcIiwgXCJkOjFcIiwgXCJkOjJcIiwgXCJ4OjFcIiwgXCJ4OjBcIl0iLCJzdWIiOiJhdXRoX2NvZGUiLCJkaXNwbGF5X25hbWUiOiJYUzQ1NDc0Iiwib21zIjoiSzEiLCJoc21fa2V5IjoiMWUxNWZiN2NkM2JlZmExZWM4ZWJmNDE2NDBhMGFmZWU5ZWZlYmNiZTE1YTQxYzRlMWU5NjFjNzEiLCJub25jZSI6IiIsImFwcF9pZCI6IjVZS1Q5NDBYNEIiLCJ1dWlkIjoiY2I3MDhkZmMyNDM0NDVmMjg0OGE1YTBhNjQ2MTM4ZWIiLCJpcEFkZHIiOiIwLjAuMC4wIiwic2NvcGUiOiIifQ.LcQ1MDpoJRPIfO2WCj5wuSqIxKgYhqDdFHCReDe-X68&state=None'\n",
    "uri"
   ]
  },
  {
   "cell_type": "code",
   "execution_count": 14,
   "metadata": {},
   "outputs": [],
   "source": [
    "s1=uri.split('auth_code=')\n",
    "auth=s1[1].split('&state')[0]"
   ]
  },
  {
   "cell_type": "code",
   "execution_count": 15,
   "metadata": {},
   "outputs": [
    {
     "data": {
      "text/plain": [
       "'eyJ0eXAiOiJKV1QiLCJhbGciOiJIUzI1NiJ9.eyJpc3MiOiJhcGkubG9naW4uZnllcnMuaW4iLCJpYXQiOjE3MDg1Mjg4NDMsImV4cCI6MTcwODU1ODg0MywibmJmIjoxNzA4NTI4MjQzLCJhdWQiOiJbXCJ4OjBcIiwgXCJ4OjFcIiwgXCJ4OjJcIiwgXCJkOjFcIiwgXCJkOjJcIiwgXCJ4OjFcIiwgXCJ4OjBcIl0iLCJzdWIiOiJhdXRoX2NvZGUiLCJkaXNwbGF5X25hbWUiOiJYUzQ1NDc0Iiwib21zIjoiSzEiLCJoc21fa2V5IjoiMWUxNWZiN2NkM2JlZmExZWM4ZWJmNDE2NDBhMGFmZWU5ZWZlYmNiZTE1YTQxYzRlMWU5NjFjNzEiLCJub25jZSI6IiIsImFwcF9pZCI6IjVZS1Q5NDBYNEIiLCJ1dWlkIjoiY2I3MDhkZmMyNDM0NDVmMjg0OGE1YTBhNjQ2MTM4ZWIiLCJpcEFkZHIiOiIwLjAuMC4wIiwic2NvcGUiOiIifQ.LcQ1MDpoJRPIfO2WCj5wuSqIxKgYhqDdFHCReDe-X68'"
      ]
     },
     "execution_count": 15,
     "metadata": {},
     "output_type": "execute_result"
    }
   ],
   "source": [
    "auth"
   ]
  },
  {
   "cell_type": "code",
   "execution_count": 19,
   "metadata": {},
   "outputs": [
    {
     "name": "stdout",
     "output_type": "stream",
     "text": [
      "{'s': 'error', 'code': -413, 'message': 'Your auth code has expired. Please generate a new auth code'}\n"
     ]
    }
   ],
   "source": [
    "# Import the required module from the fyers_apiv3 package\n",
    "from fyers_apiv3 import fyersModel\n",
    "\n",
    "# Define your Fyers API credentials\n",
    "client_id = '5YKT940X4B-100'\n",
    "secret_key = 'KZGC320N71'\n",
    "redirect_uri ='https://www.google.com/'\n",
    "\n",
    "response_type = \"code\" \n",
    "grant_type = \"authorization_code\"  \n",
    "\n",
    "# The authorization code received from Fyers after the user grants access\n",
    "auth_code = auth\n",
    "\n",
    "# Create a session object to handle the Fyers API authentication and token generation\n",
    "session = fyersModel.SessionModel(\n",
    "    client_id=client_id,\n",
    "    secret_key=secret_key, \n",
    "    redirect_uri=redirect_uri, \n",
    "    response_type=response_type, \n",
    "    grant_type=grant_type\n",
    ")\n",
    "\n",
    "# Set the authorization code in the session object\n",
    "session.set_token(auth_code)\n",
    "\n",
    "# Generate the access token using the authorization code\n",
    "response = session.generate_token()\n",
    "\n",
    "# Print the response, which should contain the access token and other details\n",
    "print(response)\n"
   ]
  },
  {
   "cell_type": "code",
   "execution_count": 17,
   "metadata": {},
   "outputs": [],
   "source": [
    "access_token=response['access_token']"
   ]
  },
  {
   "cell_type": "code",
   "execution_count": 18,
   "metadata": {},
   "outputs": [
    {
     "data": {
      "text/plain": [
       "'eyJ0eXAiOiJKV1QiLCJhbGciOiJIUzI1NiJ9.eyJpc3MiOiJhcGkuZnllcnMuaW4iLCJpYXQiOjE3MDg1Mjg4ODMsImV4cCI6MTcwODU2MTgyMywibmJmIjoxNzA4NTI4ODgzLCJhdWQiOlsieDowIiwieDoxIiwieDoyIiwiZDoxIiwiZDoyIiwieDoxIiwieDowIl0sInN1YiI6ImFjY2Vzc190b2tlbiIsImF0X2hhc2giOiJnQUFBQUFCbDFoVHpIVUoyNktSTjBTeWVPMWZzaVF6OXdDdURVb3o2NnZ1by1odzNVa291cF9QMDBUTVdEYXVzdnZxUl90WV9HYmxDT3BfaFR3U0xDODNGdWNjWHNvOWxKcmZXTWlYYmdKSGV1THE4M1puYjRocz0iLCJkaXNwbGF5X25hbWUiOiJTVU5JTCBOQU5EQSBTQUxBIiwib21zIjoiSzEiLCJoc21fa2V5IjoiMWUxNWZiN2NkM2JlZmExZWM4ZWJmNDE2NDBhMGFmZWU5ZWZlYmNiZTE1YTQxYzRlMWU5NjFjNzEiLCJmeV9pZCI6IlhTNDU0NzQiLCJhcHBUeXBlIjoxMDAsInBvYV9mbGFnIjoiTiJ9.zqR9NBWu5tW177Auxa1j56psCnz9NNqY-I6bAOIVZUs'"
      ]
     },
     "execution_count": 18,
     "metadata": {},
     "output_type": "execute_result"
    }
   ],
   "source": [
    "access_token"
   ]
  },
  {
   "cell_type": "code",
   "execution_count": 12,
   "metadata": {},
   "outputs": [
    {
     "name": "stdout",
     "output_type": "stream",
     "text": [
      "{'code': 200, 'message': '', 's': 'ok', 'overall': {'count_total': 1, 'pnl_perc': 54.4872, 'total_current_value': 24.1, 'total_investment': 15.6, 'total_pl': 8.500000000000002}, 'holdings': [{'costPrice': 15.6, 'id': 0, 'fyToken': '101000000018154', 'symbol': 'NSE:HATHWAY-EQ', 'isin': 'INE982F01036', 'quantity': 1, 'exchange': 10, 'segment': 10, 'qty_t1': 0, 'remainingQuantity': 1, 'collateralQuantity': 0, 'remainingPledgeQuantity': 1, 'pl': 8.500000000000002, 'ltp': 24.1, 'marketVal': 24.1, 'holdingType': 'HLD'}]}\n"
     ]
    }
   ],
   "source": [
    "# Initialize the FyersModel instance with your client_id, access_token, and enable async mode\n",
    "fyers = fyersModel.FyersModel(client_id=client_id, token=access_token,is_async=False, log_path=\"\")\n",
    "\n",
    "response = fyers.holdings()\n",
    "print(response)"
   ]
  }
 ],
 "metadata": {
  "kernelspec": {
   "display_name": "fyersv",
   "language": "python",
   "name": "python3"
  },
  "language_info": {
   "codemirror_mode": {
    "name": "ipython",
    "version": 3
   },
   "file_extension": ".py",
   "mimetype": "text/x-python",
   "name": "python",
   "nbconvert_exporter": "python",
   "pygments_lexer": "ipython3",
   "version": "3.9.6"
  }
 },
 "nbformat": 4,
 "nbformat_minor": 2
}
